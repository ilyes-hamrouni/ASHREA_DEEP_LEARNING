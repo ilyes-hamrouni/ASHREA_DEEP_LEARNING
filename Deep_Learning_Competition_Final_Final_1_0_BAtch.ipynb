{
  "nbformat": 4,
  "nbformat_minor": 0,
  "metadata": {
    "colab": {
      "name": "Deep_Learning_Competition_Final_Final_1.0_BAtch.ipynb",
      "provenance": [],
      "toc_visible": true,
      "machine_shape": "hm"
    },
    "kernelspec": {
      "name": "python3",
      "display_name": "Python 3"
    }
  },
  "cells": [
    {
      "cell_type": "code",
      "metadata": {
        "id": "WwpFW-_nOEva",
        "colab_type": "code",
        "colab": {}
      },
      "source": [
        "#################################\n",
        "#   Kaggle ASHREA COMPEITION\n",
        "#\n",
        "#   COURSE: DEEP LEARNING\n",
        "#\n",
        "#\n",
        "#   Author: Ilyes Hamrouni - II3 ISID\n",
        "#\n",
        "#\n",
        "#   Description: Predicting Building consumption energy with deep learning model\n",
        "#\n",
        "#\n",
        "#################################\n"
      ],
      "execution_count": 0,
      "outputs": []
    },
    {
      "cell_type": "code",
      "metadata": {
        "id": "mmS_tDkjOHWI",
        "colab_type": "code",
        "outputId": "6370654d-473a-4de2-a6ef-05a793ee7095",
        "colab": {
          "base_uri": "https://localhost:8080/",
          "height": 122
        }
      },
      "source": [
        "from google.colab import drive\n",
        "drive.mount('/content/drive')"
      ],
      "execution_count": 1,
      "outputs": [
        {
          "output_type": "stream",
          "text": [
            "Go to this URL in a browser: https://accounts.google.com/o/oauth2/auth?client_id=947318989803-6bn6qk8qdgf4n4g3pfee6491hc0brc4i.apps.googleusercontent.com&redirect_uri=urn%3aietf%3awg%3aoauth%3a2.0%3aoob&response_type=code&scope=email%20https%3a%2f%2fwww.googleapis.com%2fauth%2fdocs.test%20https%3a%2f%2fwww.googleapis.com%2fauth%2fdrive%20https%3a%2f%2fwww.googleapis.com%2fauth%2fdrive.photos.readonly%20https%3a%2f%2fwww.googleapis.com%2fauth%2fpeopleapi.readonly\n",
            "\n",
            "Enter your authorization code:\n",
            "··········\n",
            "Mounted at /content/drive\n"
          ],
          "name": "stdout"
        }
      ]
    },
    {
      "cell_type": "code",
      "metadata": {
        "id": "-_ia9DnjOIZ_",
        "colab_type": "code",
        "colab": {
          "base_uri": "https://localhost:8080/",
          "height": 204
        },
        "outputId": "9f88a6aa-a83b-429e-e906-14e45692d4a2"
      },
      "source": [
        "!pip install kaggle"
      ],
      "execution_count": 2,
      "outputs": [
        {
          "output_type": "stream",
          "text": [
            "Requirement already satisfied: kaggle in /usr/local/lib/python3.6/dist-packages (1.5.6)\n",
            "Requirement already satisfied: six>=1.10 in /usr/local/lib/python3.6/dist-packages (from kaggle) (1.12.0)\n",
            "Requirement already satisfied: tqdm in /usr/local/lib/python3.6/dist-packages (from kaggle) (4.28.1)\n",
            "Requirement already satisfied: python-slugify in /usr/local/lib/python3.6/dist-packages (from kaggle) (4.0.0)\n",
            "Requirement already satisfied: requests in /usr/local/lib/python3.6/dist-packages (from kaggle) (2.21.0)\n",
            "Requirement already satisfied: python-dateutil in /usr/local/lib/python3.6/dist-packages (from kaggle) (2.6.1)\n",
            "Requirement already satisfied: certifi in /usr/local/lib/python3.6/dist-packages (from kaggle) (2019.11.28)\n",
            "Requirement already satisfied: urllib3<1.25,>=1.21.1 in /usr/local/lib/python3.6/dist-packages (from kaggle) (1.24.3)\n",
            "Requirement already satisfied: text-unidecode>=1.3 in /usr/local/lib/python3.6/dist-packages (from python-slugify->kaggle) (1.3)\n",
            "Requirement already satisfied: idna<2.9,>=2.5 in /usr/local/lib/python3.6/dist-packages (from requests->kaggle) (2.8)\n",
            "Requirement already satisfied: chardet<3.1.0,>=3.0.2 in /usr/local/lib/python3.6/dist-packages (from requests->kaggle) (3.0.4)\n"
          ],
          "name": "stdout"
        }
      ]
    },
    {
      "cell_type": "code",
      "metadata": {
        "id": "-TMqHNVcRbht",
        "colab_type": "code",
        "colab": {}
      },
      "source": [
        "!mkdir .kaggle"
      ],
      "execution_count": 0,
      "outputs": []
    },
    {
      "cell_type": "code",
      "metadata": {
        "id": "H9r_LanQRd2E",
        "colab_type": "code",
        "colab": {}
      },
      "source": [
        "import json\n",
        "token = {\"username\":\"ilyeshamrouni\",\"key\":\"0c7aa6a8f338b26cd19dd051b69600bd\"}\n",
        "with open('/content/.kaggle/kaggle.json', 'w') as file:\n",
        "    json.dump(token, file)"
      ],
      "execution_count": 0,
      "outputs": []
    },
    {
      "cell_type": "code",
      "metadata": {
        "id": "V2W-JSWnRyfk",
        "colab_type": "code",
        "colab": {
          "base_uri": "https://localhost:8080/",
          "height": 34
        },
        "outputId": "8165f836-3e86-4315-fdc2-175959dc218a"
      },
      "source": [
        "!cp /content/.kaggle/kaggle.json ~/.kaggle/kaggle.json"
      ],
      "execution_count": 5,
      "outputs": [
        {
          "output_type": "stream",
          "text": [
            "cp: cannot create regular file '/root/.kaggle/kaggle.json': No such file or directory\n"
          ],
          "name": "stdout"
        }
      ]
    },
    {
      "cell_type": "code",
      "metadata": {
        "id": "XNXmItoPSLTc",
        "colab_type": "code",
        "colab": {
          "base_uri": "https://localhost:8080/",
          "height": 153
        },
        "outputId": "cd984d92-6617-4669-cad6-83f3053c3bd0"
      },
      "source": [
        "!kaggle config set -n path -v{/content}"
      ],
      "execution_count": 6,
      "outputs": [
        {
          "output_type": "stream",
          "text": [
            "Traceback (most recent call last):\n",
            "  File \"/usr/local/bin/kaggle\", line 5, in <module>\n",
            "    from kaggle.cli import main\n",
            "  File \"/usr/local/lib/python2.7/dist-packages/kaggle/__init__.py\", line 23, in <module>\n",
            "    api.authenticate()\n",
            "  File \"/usr/local/lib/python2.7/dist-packages/kaggle/api/kaggle_api_extended.py\", line 146, in authenticate\n",
            "    self.config_file, self.config_dir))\n",
            "IOError: Could not find kaggle.json. Make sure it's located in /root/.kaggle. Or use the environment method.\n"
          ],
          "name": "stdout"
        }
      ]
    },
    {
      "cell_type": "code",
      "metadata": {
        "id": "tgfbQc1aSS65",
        "colab_type": "code",
        "colab": {
          "base_uri": "https://localhost:8080/",
          "height": 34
        },
        "outputId": "bb749125-9ad5-4557-c44b-b20668d53692"
      },
      "source": [
        "!chmod 600 /root/.kaggle/kaggle.json"
      ],
      "execution_count": 7,
      "outputs": [
        {
          "output_type": "stream",
          "text": [
            "chmod: cannot access '/root/.kaggle/kaggle.json': No such file or directory\n"
          ],
          "name": "stdout"
        }
      ]
    },
    {
      "cell_type": "code",
      "metadata": {
        "id": "RWHcxK16SVjh",
        "colab_type": "code",
        "colab": {
          "base_uri": "https://localhost:8080/",
          "height": 34
        },
        "outputId": "6886c41c-0f9c-4851-9c89-b8d8b96506ca"
      },
      "source": [
        "!cat .kaggle/kaggle.json"
      ],
      "execution_count": 8,
      "outputs": [
        {
          "output_type": "stream",
          "text": [
            "{\"username\": \"ilyeshamrouni\", \"key\": \"0c7aa6a8f338b26cd19dd051b69600bd\"}"
          ],
          "name": "stdout"
        }
      ]
    },
    {
      "cell_type": "markdown",
      "metadata": {
        "id": "giNMk2WHPhlP",
        "colab_type": "text"
      },
      "source": [
        "# **Imports**\n"
      ]
    },
    {
      "cell_type": "code",
      "metadata": {
        "id": "50bSTedyPzjI",
        "colab_type": "code",
        "outputId": "11c2d872-6b1e-406e-caa8-c860c4cab99a",
        "colab": {
          "base_uri": "https://localhost:8080/",
          "height": 80
        }
      },
      "source": [
        "import warnings\n",
        "warnings.filterwarnings(\"ignore\", category=DeprecationWarning)\n",
        "warnings.filterwarnings(\"ignore\", category=UserWarning)\n",
        "warnings.filterwarnings(\"ignore\", category=FutureWarning)\n",
        "from IPython.display import HTML\n",
        "\n",
        "import numpy as np # linear algebra\n",
        "import pandas as pd # data processing, CSV file I/O (e.g. pd.read_csv)\n",
        "import gc\n",
        "\n",
        "# matplotlib and seaborn for plotting\n",
        "import matplotlib.pyplot as plt\n",
        "%matplotlib inline\n",
        "\n",
        "import seaborn as sns\n",
        "import matplotlib.patches as patches\n",
        "\n",
        "from plotly import tools, subplots\n",
        "import plotly.offline as py\n",
        "py.init_notebook_mode(connected=True)\n",
        "import plotly.graph_objs as go\n",
        "import plotly.express as px\n",
        "pd.set_option('max_columns', 150)\n",
        "\n",
        "py.init_notebook_mode(connected=True)\n",
        "from plotly.offline import init_notebook_mode, iplot\n",
        "init_notebook_mode(connected=True)\n",
        "import plotly.graph_objs as go\n",
        "\n",
        "import os,random, math, psutil, pickle \n",
        "\n",
        "\n",
        "# deep learning model\n",
        "from keras.models import Model, load_model\n",
        "from keras.layers import Input, Dropout, Dense, Embedding, SpatialDropout1D, concatenate, BatchNormalization, Flatten\n",
        "from keras.preprocessing.sequence import pad_sequences\n",
        "from keras.preprocessing import text, sequence\n",
        "from keras.callbacks import Callback\n",
        "from keras import backend as K\n",
        "from keras.models import Model\n",
        "from keras.losses import mean_squared_error as mse_loss\n",
        "\n",
        "from keras import optimizers\n",
        "from keras.optimizers import RMSprop, Adam\n",
        "from keras.callbacks import EarlyStopping, ModelCheckpoint, ReduceLROnPlateau\n",
        "\n",
        "import datetime\n",
        "import gc\n",
        "from sklearn.preprocessing import LabelEncoder"
      ],
      "execution_count": 9,
      "outputs": [
        {
          "output_type": "display_data",
          "data": {
            "text/html": [
              "        <script type=\"text/javascript\">\n",
              "        window.PlotlyConfig = {MathJaxConfig: 'local'};\n",
              "        if (window.MathJax) {MathJax.Hub.Config({SVG: {font: \"STIX-Web\"}});}\n",
              "        if (typeof require !== 'undefined') {\n",
              "        require.undef(\"plotly\");\n",
              "        requirejs.config({\n",
              "            paths: {\n",
              "                'plotly': ['https://cdn.plot.ly/plotly-latest.min']\n",
              "            }\n",
              "        });\n",
              "        require(['plotly'], function(Plotly) {\n",
              "            window._Plotly = Plotly;\n",
              "        });\n",
              "        }\n",
              "        </script>\n",
              "        "
            ]
          },
          "metadata": {
            "tags": []
          }
        },
        {
          "output_type": "display_data",
          "data": {
            "text/html": [
              "        <script type=\"text/javascript\">\n",
              "        window.PlotlyConfig = {MathJaxConfig: 'local'};\n",
              "        if (window.MathJax) {MathJax.Hub.Config({SVG: {font: \"STIX-Web\"}});}\n",
              "        if (typeof require !== 'undefined') {\n",
              "        require.undef(\"plotly\");\n",
              "        requirejs.config({\n",
              "            paths: {\n",
              "                'plotly': ['https://cdn.plot.ly/plotly-latest.min']\n",
              "            }\n",
              "        });\n",
              "        require(['plotly'], function(Plotly) {\n",
              "            window._Plotly = Plotly;\n",
              "        });\n",
              "        }\n",
              "        </script>\n",
              "        "
            ]
          },
          "metadata": {
            "tags": []
          }
        },
        {
          "output_type": "display_data",
          "data": {
            "text/html": [
              "        <script type=\"text/javascript\">\n",
              "        window.PlotlyConfig = {MathJaxConfig: 'local'};\n",
              "        if (window.MathJax) {MathJax.Hub.Config({SVG: {font: \"STIX-Web\"}});}\n",
              "        if (typeof require !== 'undefined') {\n",
              "        require.undef(\"plotly\");\n",
              "        requirejs.config({\n",
              "            paths: {\n",
              "                'plotly': ['https://cdn.plot.ly/plotly-latest.min']\n",
              "            }\n",
              "        });\n",
              "        require(['plotly'], function(Plotly) {\n",
              "            window._Plotly = Plotly;\n",
              "        });\n",
              "        }\n",
              "        </script>\n",
              "        "
            ]
          },
          "metadata": {
            "tags": []
          }
        },
        {
          "output_type": "stream",
          "text": [
            "Using TensorFlow backend.\n"
          ],
          "name": "stderr"
        },
        {
          "output_type": "display_data",
          "data": {
            "text/html": [
              "<p style=\"color: red;\">\n",
              "The default version of TensorFlow in Colab will soon switch to TensorFlow 2.x.<br>\n",
              "We recommend you <a href=\"https://www.tensorflow.org/guide/migrate\" target=\"_blank\">upgrade</a> now \n",
              "or ensure your notebook will continue to use TensorFlow 1.x via the <code>%tensorflow_version 1.x</code> magic:\n",
              "<a href=\"https://colab.research.google.com/notebooks/tensorflow_version.ipynb\" target=\"_blank\">more info</a>.</p>\n"
            ],
            "text/plain": [
              "<IPython.core.display.HTML object>"
            ]
          },
          "metadata": {
            "tags": []
          }
        }
      ]
    },
    {
      "cell_type": "code",
      "metadata": {
        "id": "7Mc98XoKP3in",
        "colab_type": "code",
        "colab": {}
      },
      "source": [
        ""
      ],
      "execution_count": 0,
      "outputs": []
    },
    {
      "cell_type": "markdown",
      "metadata": {
        "id": "rRf7S_D1QAis",
        "colab_type": "text"
      },
      "source": [
        "# **Import Data**"
      ]
    },
    {
      "cell_type": "markdown",
      "metadata": {
        "id": "FPwRnSP_QXW5",
        "colab_type": "text"
      },
      "source": [
        "\n",
        "\n",
        "1.   Import train.csv, weather_train.csv and building_metadata.csv\n",
        "2.   Glimpse at the data shape\n",
        "\n"
      ]
    },
    {
      "cell_type": "code",
      "metadata": {
        "id": "SG9sKyDUQE4k",
        "colab_type": "code",
        "outputId": "41a9079c-44e0-4e21-ccbb-0d98abb9095c",
        "colab": {
          "base_uri": "https://localhost:8080/",
          "height": 136
        }
      },
      "source": [
        "# veryfing existence of data\n",
        "root = '/content/drive/My Drive/ashrae-energy-prediction/'\n",
        "import os\n",
        "for dirname, _, filenames in os.walk(root):\n",
        "    for filename in filenames:\n",
        "        print(os.path.join(dirname, filename))"
      ],
      "execution_count": 10,
      "outputs": [
        {
          "output_type": "stream",
          "text": [
            "/content/drive/My Drive/ashrae-energy-prediction/building_metadata.csv\n",
            "/content/drive/My Drive/ashrae-energy-prediction/sample_submission.csv\n",
            "/content/drive/My Drive/ashrae-energy-prediction/weather_test.csv\n",
            "/content/drive/My Drive/ashrae-energy-prediction/weather_train.csv\n",
            "/content/drive/My Drive/ashrae-energy-prediction/train.csv\n",
            "/content/drive/My Drive/ashrae-energy-prediction/test.csv\n",
            "/content/drive/My Drive/ashrae-energy-prediction/my_model.h5\n"
          ],
          "name": "stdout"
        }
      ]
    },
    {
      "cell_type": "code",
      "metadata": {
        "id": "IHzsHJw6QIEg",
        "colab_type": "code",
        "outputId": "81dcdae4-b85b-4c70-8a60-d029da3b184d",
        "colab": {
          "base_uri": "https://localhost:8080/",
          "height": 51
        }
      },
      "source": [
        "# importing files\n",
        "%%time\n",
        "\n",
        "train_df = pd.read_csv(root + 'train.csv')\n",
        "# train[\"timestamp\"] = pd.to_datetime(train[\"timestamp\"], format='%Y-%m-%d %H:%M:%S')\n",
        "weather_df = pd.read_csv(root + 'weather_train.csv')\n",
        "building_df = pd.read_csv(root + 'building_metadata.csv')"
      ],
      "execution_count": 11,
      "outputs": [
        {
          "output_type": "stream",
          "text": [
            "CPU times: user 7.85 s, sys: 1.37 s, total: 9.22 s\n",
            "Wall time: 12.3 s\n"
          ],
          "name": "stdout"
        }
      ]
    },
    {
      "cell_type": "markdown",
      "metadata": {
        "id": "tdh6nF_DZoxb",
        "colab_type": "text"
      },
      "source": [
        "**Train** **Data**"
      ]
    },
    {
      "cell_type": "code",
      "metadata": {
        "id": "pBdn_WnDQQgc",
        "colab_type": "code",
        "outputId": "12647759-f6aa-462d-e6d7-52909f943bc8",
        "colab": {
          "base_uri": "https://localhost:8080/",
          "height": 221
        }
      },
      "source": [
        "print(\"Train shape: \", train_df.shape)\n",
        "train_df.head()"
      ],
      "execution_count": 12,
      "outputs": [
        {
          "output_type": "stream",
          "text": [
            "Train shape:  (20216100, 4)\n"
          ],
          "name": "stdout"
        },
        {
          "output_type": "execute_result",
          "data": {
            "text/html": [
              "<div>\n",
              "<style scoped>\n",
              "    .dataframe tbody tr th:only-of-type {\n",
              "        vertical-align: middle;\n",
              "    }\n",
              "\n",
              "    .dataframe tbody tr th {\n",
              "        vertical-align: top;\n",
              "    }\n",
              "\n",
              "    .dataframe thead th {\n",
              "        text-align: right;\n",
              "    }\n",
              "</style>\n",
              "<table border=\"1\" class=\"dataframe\">\n",
              "  <thead>\n",
              "    <tr style=\"text-align: right;\">\n",
              "      <th></th>\n",
              "      <th>building_id</th>\n",
              "      <th>meter</th>\n",
              "      <th>timestamp</th>\n",
              "      <th>meter_reading</th>\n",
              "    </tr>\n",
              "  </thead>\n",
              "  <tbody>\n",
              "    <tr>\n",
              "      <th>0</th>\n",
              "      <td>0</td>\n",
              "      <td>0</td>\n",
              "      <td>2016-01-01 00:00:00</td>\n",
              "      <td>0.0</td>\n",
              "    </tr>\n",
              "    <tr>\n",
              "      <th>1</th>\n",
              "      <td>1</td>\n",
              "      <td>0</td>\n",
              "      <td>2016-01-01 00:00:00</td>\n",
              "      <td>0.0</td>\n",
              "    </tr>\n",
              "    <tr>\n",
              "      <th>2</th>\n",
              "      <td>2</td>\n",
              "      <td>0</td>\n",
              "      <td>2016-01-01 00:00:00</td>\n",
              "      <td>0.0</td>\n",
              "    </tr>\n",
              "    <tr>\n",
              "      <th>3</th>\n",
              "      <td>3</td>\n",
              "      <td>0</td>\n",
              "      <td>2016-01-01 00:00:00</td>\n",
              "      <td>0.0</td>\n",
              "    </tr>\n",
              "    <tr>\n",
              "      <th>4</th>\n",
              "      <td>4</td>\n",
              "      <td>0</td>\n",
              "      <td>2016-01-01 00:00:00</td>\n",
              "      <td>0.0</td>\n",
              "    </tr>\n",
              "  </tbody>\n",
              "</table>\n",
              "</div>"
            ],
            "text/plain": [
              "   building_id  meter            timestamp  meter_reading\n",
              "0            0      0  2016-01-01 00:00:00            0.0\n",
              "1            1      0  2016-01-01 00:00:00            0.0\n",
              "2            2      0  2016-01-01 00:00:00            0.0\n",
              "3            3      0  2016-01-01 00:00:00            0.0\n",
              "4            4      0  2016-01-01 00:00:00            0.0"
            ]
          },
          "metadata": {
            "tags": []
          },
          "execution_count": 12
        }
      ]
    },
    {
      "cell_type": "markdown",
      "metadata": {
        "id": "RMRvMynAZt1O",
        "colab_type": "text"
      },
      "source": [
        "***Weather Data***"
      ]
    },
    {
      "cell_type": "code",
      "metadata": {
        "id": "VxTFDl-3Q4aF",
        "colab_type": "code",
        "outputId": "30827f9d-767c-4741-c356-af3dff445746",
        "colab": {
          "base_uri": "https://localhost:8080/",
          "height": 221
        }
      },
      "source": [
        "print(\"Weather shape: \", weather_df.shape)\n",
        "weather_df.head()"
      ],
      "execution_count": 13,
      "outputs": [
        {
          "output_type": "stream",
          "text": [
            "Weather shape:  (139773, 9)\n"
          ],
          "name": "stdout"
        },
        {
          "output_type": "execute_result",
          "data": {
            "text/html": [
              "<div>\n",
              "<style scoped>\n",
              "    .dataframe tbody tr th:only-of-type {\n",
              "        vertical-align: middle;\n",
              "    }\n",
              "\n",
              "    .dataframe tbody tr th {\n",
              "        vertical-align: top;\n",
              "    }\n",
              "\n",
              "    .dataframe thead th {\n",
              "        text-align: right;\n",
              "    }\n",
              "</style>\n",
              "<table border=\"1\" class=\"dataframe\">\n",
              "  <thead>\n",
              "    <tr style=\"text-align: right;\">\n",
              "      <th></th>\n",
              "      <th>site_id</th>\n",
              "      <th>timestamp</th>\n",
              "      <th>air_temperature</th>\n",
              "      <th>cloud_coverage</th>\n",
              "      <th>dew_temperature</th>\n",
              "      <th>precip_depth_1_hr</th>\n",
              "      <th>sea_level_pressure</th>\n",
              "      <th>wind_direction</th>\n",
              "      <th>wind_speed</th>\n",
              "    </tr>\n",
              "  </thead>\n",
              "  <tbody>\n",
              "    <tr>\n",
              "      <th>0</th>\n",
              "      <td>0</td>\n",
              "      <td>2016-01-01 00:00:00</td>\n",
              "      <td>25.0</td>\n",
              "      <td>6.0</td>\n",
              "      <td>20.0</td>\n",
              "      <td>NaN</td>\n",
              "      <td>1019.7</td>\n",
              "      <td>0.0</td>\n",
              "      <td>0.0</td>\n",
              "    </tr>\n",
              "    <tr>\n",
              "      <th>1</th>\n",
              "      <td>0</td>\n",
              "      <td>2016-01-01 01:00:00</td>\n",
              "      <td>24.4</td>\n",
              "      <td>NaN</td>\n",
              "      <td>21.1</td>\n",
              "      <td>-1.0</td>\n",
              "      <td>1020.2</td>\n",
              "      <td>70.0</td>\n",
              "      <td>1.5</td>\n",
              "    </tr>\n",
              "    <tr>\n",
              "      <th>2</th>\n",
              "      <td>0</td>\n",
              "      <td>2016-01-01 02:00:00</td>\n",
              "      <td>22.8</td>\n",
              "      <td>2.0</td>\n",
              "      <td>21.1</td>\n",
              "      <td>0.0</td>\n",
              "      <td>1020.2</td>\n",
              "      <td>0.0</td>\n",
              "      <td>0.0</td>\n",
              "    </tr>\n",
              "    <tr>\n",
              "      <th>3</th>\n",
              "      <td>0</td>\n",
              "      <td>2016-01-01 03:00:00</td>\n",
              "      <td>21.1</td>\n",
              "      <td>2.0</td>\n",
              "      <td>20.6</td>\n",
              "      <td>0.0</td>\n",
              "      <td>1020.1</td>\n",
              "      <td>0.0</td>\n",
              "      <td>0.0</td>\n",
              "    </tr>\n",
              "    <tr>\n",
              "      <th>4</th>\n",
              "      <td>0</td>\n",
              "      <td>2016-01-01 04:00:00</td>\n",
              "      <td>20.0</td>\n",
              "      <td>2.0</td>\n",
              "      <td>20.0</td>\n",
              "      <td>-1.0</td>\n",
              "      <td>1020.0</td>\n",
              "      <td>250.0</td>\n",
              "      <td>2.6</td>\n",
              "    </tr>\n",
              "  </tbody>\n",
              "</table>\n",
              "</div>"
            ],
            "text/plain": [
              "   site_id            timestamp  air_temperature  cloud_coverage  \\\n",
              "0        0  2016-01-01 00:00:00             25.0             6.0   \n",
              "1        0  2016-01-01 01:00:00             24.4             NaN   \n",
              "2        0  2016-01-01 02:00:00             22.8             2.0   \n",
              "3        0  2016-01-01 03:00:00             21.1             2.0   \n",
              "4        0  2016-01-01 04:00:00             20.0             2.0   \n",
              "\n",
              "   dew_temperature  precip_depth_1_hr  sea_level_pressure  wind_direction  \\\n",
              "0             20.0                NaN              1019.7             0.0   \n",
              "1             21.1               -1.0              1020.2            70.0   \n",
              "2             21.1                0.0              1020.2             0.0   \n",
              "3             20.6                0.0              1020.1             0.0   \n",
              "4             20.0               -1.0              1020.0           250.0   \n",
              "\n",
              "   wind_speed  \n",
              "0         0.0  \n",
              "1         1.5  \n",
              "2         0.0  \n",
              "3         0.0  \n",
              "4         2.6  "
            ]
          },
          "metadata": {
            "tags": []
          },
          "execution_count": 13
        }
      ]
    },
    {
      "cell_type": "markdown",
      "metadata": {
        "id": "6_nm2lawabxS",
        "colab_type": "text"
      },
      "source": [
        "**Building Meta Data**"
      ]
    },
    {
      "cell_type": "code",
      "metadata": {
        "id": "xyr_5HsnQ_Bd",
        "colab_type": "code",
        "outputId": "754d7212-3fd2-4a65-e1bd-259ba52f2fe3",
        "colab": {
          "base_uri": "https://localhost:8080/",
          "height": 221
        }
      },
      "source": [
        "print(\"Building shape: \", building_df.shape)\n",
        "building_df.head()"
      ],
      "execution_count": 14,
      "outputs": [
        {
          "output_type": "stream",
          "text": [
            "Building shape:  (1449, 6)\n"
          ],
          "name": "stdout"
        },
        {
          "output_type": "execute_result",
          "data": {
            "text/html": [
              "<div>\n",
              "<style scoped>\n",
              "    .dataframe tbody tr th:only-of-type {\n",
              "        vertical-align: middle;\n",
              "    }\n",
              "\n",
              "    .dataframe tbody tr th {\n",
              "        vertical-align: top;\n",
              "    }\n",
              "\n",
              "    .dataframe thead th {\n",
              "        text-align: right;\n",
              "    }\n",
              "</style>\n",
              "<table border=\"1\" class=\"dataframe\">\n",
              "  <thead>\n",
              "    <tr style=\"text-align: right;\">\n",
              "      <th></th>\n",
              "      <th>site_id</th>\n",
              "      <th>building_id</th>\n",
              "      <th>primary_use</th>\n",
              "      <th>square_feet</th>\n",
              "      <th>year_built</th>\n",
              "      <th>floor_count</th>\n",
              "    </tr>\n",
              "  </thead>\n",
              "  <tbody>\n",
              "    <tr>\n",
              "      <th>0</th>\n",
              "      <td>0</td>\n",
              "      <td>0</td>\n",
              "      <td>Education</td>\n",
              "      <td>7432</td>\n",
              "      <td>2008.0</td>\n",
              "      <td>NaN</td>\n",
              "    </tr>\n",
              "    <tr>\n",
              "      <th>1</th>\n",
              "      <td>0</td>\n",
              "      <td>1</td>\n",
              "      <td>Education</td>\n",
              "      <td>2720</td>\n",
              "      <td>2004.0</td>\n",
              "      <td>NaN</td>\n",
              "    </tr>\n",
              "    <tr>\n",
              "      <th>2</th>\n",
              "      <td>0</td>\n",
              "      <td>2</td>\n",
              "      <td>Education</td>\n",
              "      <td>5376</td>\n",
              "      <td>1991.0</td>\n",
              "      <td>NaN</td>\n",
              "    </tr>\n",
              "    <tr>\n",
              "      <th>3</th>\n",
              "      <td>0</td>\n",
              "      <td>3</td>\n",
              "      <td>Education</td>\n",
              "      <td>23685</td>\n",
              "      <td>2002.0</td>\n",
              "      <td>NaN</td>\n",
              "    </tr>\n",
              "    <tr>\n",
              "      <th>4</th>\n",
              "      <td>0</td>\n",
              "      <td>4</td>\n",
              "      <td>Education</td>\n",
              "      <td>116607</td>\n",
              "      <td>1975.0</td>\n",
              "      <td>NaN</td>\n",
              "    </tr>\n",
              "  </tbody>\n",
              "</table>\n",
              "</div>"
            ],
            "text/plain": [
              "   site_id  building_id primary_use  square_feet  year_built  floor_count\n",
              "0        0            0   Education         7432      2008.0          NaN\n",
              "1        0            1   Education         2720      2004.0          NaN\n",
              "2        0            2   Education         5376      1991.0          NaN\n",
              "3        0            3   Education        23685      2002.0          NaN\n",
              "4        0            4   Education       116607      1975.0          NaN"
            ]
          },
          "metadata": {
            "tags": []
          },
          "execution_count": 14
        }
      ]
    },
    {
      "cell_type": "code",
      "metadata": {
        "id": "kJ5iQ4qARJAi",
        "colab_type": "code",
        "colab": {}
      },
      "source": [
        ""
      ],
      "execution_count": 0,
      "outputs": []
    },
    {
      "cell_type": "markdown",
      "metadata": {
        "id": "1A0zEGC2RO13",
        "colab_type": "text"
      },
      "source": [
        "# **Exploration**"
      ]
    },
    {
      "cell_type": "markdown",
      "metadata": {
        "id": "yFAbuoFGcs6J",
        "colab_type": "text"
      },
      "source": [
        "\n",
        "\n",
        "**General statics**\n",
        "\n",
        "\n",
        "\n"
      ]
    },
    {
      "cell_type": "code",
      "metadata": {
        "id": "yohGK8AVRWRR",
        "colab_type": "code",
        "outputId": "6fbb171d-e5a3-4691-a9de-48d3a099f9ec",
        "colab": {
          "base_uri": "https://localhost:8080/",
          "height": 0
        }
      },
      "source": [
        "train_df.describe()"
      ],
      "execution_count": 15,
      "outputs": [
        {
          "output_type": "execute_result",
          "data": {
            "text/html": [
              "<div>\n",
              "<style scoped>\n",
              "    .dataframe tbody tr th:only-of-type {\n",
              "        vertical-align: middle;\n",
              "    }\n",
              "\n",
              "    .dataframe tbody tr th {\n",
              "        vertical-align: top;\n",
              "    }\n",
              "\n",
              "    .dataframe thead th {\n",
              "        text-align: right;\n",
              "    }\n",
              "</style>\n",
              "<table border=\"1\" class=\"dataframe\">\n",
              "  <thead>\n",
              "    <tr style=\"text-align: right;\">\n",
              "      <th></th>\n",
              "      <th>building_id</th>\n",
              "      <th>meter</th>\n",
              "      <th>meter_reading</th>\n",
              "    </tr>\n",
              "  </thead>\n",
              "  <tbody>\n",
              "    <tr>\n",
              "      <th>count</th>\n",
              "      <td>2.021610e+07</td>\n",
              "      <td>2.021610e+07</td>\n",
              "      <td>2.021610e+07</td>\n",
              "    </tr>\n",
              "    <tr>\n",
              "      <th>mean</th>\n",
              "      <td>7.992780e+02</td>\n",
              "      <td>6.624412e-01</td>\n",
              "      <td>2.117121e+03</td>\n",
              "    </tr>\n",
              "    <tr>\n",
              "      <th>std</th>\n",
              "      <td>4.269133e+02</td>\n",
              "      <td>9.309921e-01</td>\n",
              "      <td>1.532356e+05</td>\n",
              "    </tr>\n",
              "    <tr>\n",
              "      <th>min</th>\n",
              "      <td>0.000000e+00</td>\n",
              "      <td>0.000000e+00</td>\n",
              "      <td>0.000000e+00</td>\n",
              "    </tr>\n",
              "    <tr>\n",
              "      <th>25%</th>\n",
              "      <td>3.930000e+02</td>\n",
              "      <td>0.000000e+00</td>\n",
              "      <td>1.830000e+01</td>\n",
              "    </tr>\n",
              "    <tr>\n",
              "      <th>50%</th>\n",
              "      <td>8.950000e+02</td>\n",
              "      <td>0.000000e+00</td>\n",
              "      <td>7.877500e+01</td>\n",
              "    </tr>\n",
              "    <tr>\n",
              "      <th>75%</th>\n",
              "      <td>1.179000e+03</td>\n",
              "      <td>1.000000e+00</td>\n",
              "      <td>2.679840e+02</td>\n",
              "    </tr>\n",
              "    <tr>\n",
              "      <th>max</th>\n",
              "      <td>1.448000e+03</td>\n",
              "      <td>3.000000e+00</td>\n",
              "      <td>2.190470e+07</td>\n",
              "    </tr>\n",
              "  </tbody>\n",
              "</table>\n",
              "</div>"
            ],
            "text/plain": [
              "        building_id         meter  meter_reading\n",
              "count  2.021610e+07  2.021610e+07   2.021610e+07\n",
              "mean   7.992780e+02  6.624412e-01   2.117121e+03\n",
              "std    4.269133e+02  9.309921e-01   1.532356e+05\n",
              "min    0.000000e+00  0.000000e+00   0.000000e+00\n",
              "25%    3.930000e+02  0.000000e+00   1.830000e+01\n",
              "50%    8.950000e+02  0.000000e+00   7.877500e+01\n",
              "75%    1.179000e+03  1.000000e+00   2.679840e+02\n",
              "max    1.448000e+03  3.000000e+00   2.190470e+07"
            ]
          },
          "metadata": {
            "tags": []
          },
          "execution_count": 15
        }
      ]
    },
    {
      "cell_type": "code",
      "metadata": {
        "id": "pla3fKycRbi4",
        "colab_type": "code",
        "outputId": "4d282193-1ce7-4258-900e-bf1f82a38321",
        "colab": {
          "base_uri": "https://localhost:8080/",
          "height": 0
        }
      },
      "source": [
        "weather_df.describe()"
      ],
      "execution_count": 16,
      "outputs": [
        {
          "output_type": "execute_result",
          "data": {
            "text/html": [
              "<div>\n",
              "<style scoped>\n",
              "    .dataframe tbody tr th:only-of-type {\n",
              "        vertical-align: middle;\n",
              "    }\n",
              "\n",
              "    .dataframe tbody tr th {\n",
              "        vertical-align: top;\n",
              "    }\n",
              "\n",
              "    .dataframe thead th {\n",
              "        text-align: right;\n",
              "    }\n",
              "</style>\n",
              "<table border=\"1\" class=\"dataframe\">\n",
              "  <thead>\n",
              "    <tr style=\"text-align: right;\">\n",
              "      <th></th>\n",
              "      <th>site_id</th>\n",
              "      <th>air_temperature</th>\n",
              "      <th>cloud_coverage</th>\n",
              "      <th>dew_temperature</th>\n",
              "      <th>precip_depth_1_hr</th>\n",
              "      <th>sea_level_pressure</th>\n",
              "      <th>wind_direction</th>\n",
              "      <th>wind_speed</th>\n",
              "    </tr>\n",
              "  </thead>\n",
              "  <tbody>\n",
              "    <tr>\n",
              "      <th>count</th>\n",
              "      <td>139773.000000</td>\n",
              "      <td>139718.000000</td>\n",
              "      <td>70600.000000</td>\n",
              "      <td>139660.000000</td>\n",
              "      <td>89484.000000</td>\n",
              "      <td>129155.000000</td>\n",
              "      <td>133505.000000</td>\n",
              "      <td>139469.000000</td>\n",
              "    </tr>\n",
              "    <tr>\n",
              "      <th>mean</th>\n",
              "      <td>7.478977</td>\n",
              "      <td>14.418106</td>\n",
              "      <td>2.149306</td>\n",
              "      <td>7.350158</td>\n",
              "      <td>0.983047</td>\n",
              "      <td>1016.158038</td>\n",
              "      <td>180.526632</td>\n",
              "      <td>3.560527</td>\n",
              "    </tr>\n",
              "    <tr>\n",
              "      <th>std</th>\n",
              "      <td>4.604744</td>\n",
              "      <td>10.626595</td>\n",
              "      <td>2.599150</td>\n",
              "      <td>9.790235</td>\n",
              "      <td>8.463678</td>\n",
              "      <td>7.629684</td>\n",
              "      <td>111.523629</td>\n",
              "      <td>2.335874</td>\n",
              "    </tr>\n",
              "    <tr>\n",
              "      <th>min</th>\n",
              "      <td>0.000000</td>\n",
              "      <td>-28.900000</td>\n",
              "      <td>0.000000</td>\n",
              "      <td>-35.000000</td>\n",
              "      <td>-1.000000</td>\n",
              "      <td>968.200000</td>\n",
              "      <td>0.000000</td>\n",
              "      <td>0.000000</td>\n",
              "    </tr>\n",
              "    <tr>\n",
              "      <th>25%</th>\n",
              "      <td>3.000000</td>\n",
              "      <td>7.200000</td>\n",
              "      <td>0.000000</td>\n",
              "      <td>0.600000</td>\n",
              "      <td>0.000000</td>\n",
              "      <td>1011.800000</td>\n",
              "      <td>80.000000</td>\n",
              "      <td>2.100000</td>\n",
              "    </tr>\n",
              "    <tr>\n",
              "      <th>50%</th>\n",
              "      <td>7.000000</td>\n",
              "      <td>15.000000</td>\n",
              "      <td>2.000000</td>\n",
              "      <td>8.300000</td>\n",
              "      <td>0.000000</td>\n",
              "      <td>1016.400000</td>\n",
              "      <td>190.000000</td>\n",
              "      <td>3.100000</td>\n",
              "    </tr>\n",
              "    <tr>\n",
              "      <th>75%</th>\n",
              "      <td>11.000000</td>\n",
              "      <td>22.200000</td>\n",
              "      <td>4.000000</td>\n",
              "      <td>14.400000</td>\n",
              "      <td>0.000000</td>\n",
              "      <td>1020.800000</td>\n",
              "      <td>280.000000</td>\n",
              "      <td>5.000000</td>\n",
              "    </tr>\n",
              "    <tr>\n",
              "      <th>max</th>\n",
              "      <td>15.000000</td>\n",
              "      <td>47.200000</td>\n",
              "      <td>9.000000</td>\n",
              "      <td>26.100000</td>\n",
              "      <td>343.000000</td>\n",
              "      <td>1045.500000</td>\n",
              "      <td>360.000000</td>\n",
              "      <td>19.000000</td>\n",
              "    </tr>\n",
              "  </tbody>\n",
              "</table>\n",
              "</div>"
            ],
            "text/plain": [
              "             site_id  air_temperature  cloud_coverage  dew_temperature  \\\n",
              "count  139773.000000    139718.000000    70600.000000    139660.000000   \n",
              "mean        7.478977        14.418106        2.149306         7.350158   \n",
              "std         4.604744        10.626595        2.599150         9.790235   \n",
              "min         0.000000       -28.900000        0.000000       -35.000000   \n",
              "25%         3.000000         7.200000        0.000000         0.600000   \n",
              "50%         7.000000        15.000000        2.000000         8.300000   \n",
              "75%        11.000000        22.200000        4.000000        14.400000   \n",
              "max        15.000000        47.200000        9.000000        26.100000   \n",
              "\n",
              "       precip_depth_1_hr  sea_level_pressure  wind_direction     wind_speed  \n",
              "count       89484.000000       129155.000000   133505.000000  139469.000000  \n",
              "mean            0.983047         1016.158038      180.526632       3.560527  \n",
              "std             8.463678            7.629684      111.523629       2.335874  \n",
              "min            -1.000000          968.200000        0.000000       0.000000  \n",
              "25%             0.000000         1011.800000       80.000000       2.100000  \n",
              "50%             0.000000         1016.400000      190.000000       3.100000  \n",
              "75%             0.000000         1020.800000      280.000000       5.000000  \n",
              "max           343.000000         1045.500000      360.000000      19.000000  "
            ]
          },
          "metadata": {
            "tags": []
          },
          "execution_count": 16
        }
      ]
    },
    {
      "cell_type": "code",
      "metadata": {
        "id": "hQbPs5pVRc3G",
        "colab_type": "code",
        "outputId": "a6070098-6c66-4f54-98bd-12a9d96eb98a",
        "colab": {
          "base_uri": "https://localhost:8080/",
          "height": 0
        }
      },
      "source": [
        "building_df.describe()"
      ],
      "execution_count": 17,
      "outputs": [
        {
          "output_type": "execute_result",
          "data": {
            "text/html": [
              "<div>\n",
              "<style scoped>\n",
              "    .dataframe tbody tr th:only-of-type {\n",
              "        vertical-align: middle;\n",
              "    }\n",
              "\n",
              "    .dataframe tbody tr th {\n",
              "        vertical-align: top;\n",
              "    }\n",
              "\n",
              "    .dataframe thead th {\n",
              "        text-align: right;\n",
              "    }\n",
              "</style>\n",
              "<table border=\"1\" class=\"dataframe\">\n",
              "  <thead>\n",
              "    <tr style=\"text-align: right;\">\n",
              "      <th></th>\n",
              "      <th>site_id</th>\n",
              "      <th>building_id</th>\n",
              "      <th>square_feet</th>\n",
              "      <th>year_built</th>\n",
              "      <th>floor_count</th>\n",
              "    </tr>\n",
              "  </thead>\n",
              "  <tbody>\n",
              "    <tr>\n",
              "      <th>count</th>\n",
              "      <td>1449.000000</td>\n",
              "      <td>1449.000000</td>\n",
              "      <td>1449.000000</td>\n",
              "      <td>675.000000</td>\n",
              "      <td>355.000000</td>\n",
              "    </tr>\n",
              "    <tr>\n",
              "      <th>mean</th>\n",
              "      <td>6.952381</td>\n",
              "      <td>724.000000</td>\n",
              "      <td>92111.776398</td>\n",
              "      <td>1967.957037</td>\n",
              "      <td>3.740845</td>\n",
              "    </tr>\n",
              "    <tr>\n",
              "      <th>std</th>\n",
              "      <td>5.003432</td>\n",
              "      <td>418.434583</td>\n",
              "      <td>110769.950997</td>\n",
              "      <td>31.054030</td>\n",
              "      <td>3.333683</td>\n",
              "    </tr>\n",
              "    <tr>\n",
              "      <th>min</th>\n",
              "      <td>0.000000</td>\n",
              "      <td>0.000000</td>\n",
              "      <td>283.000000</td>\n",
              "      <td>1900.000000</td>\n",
              "      <td>1.000000</td>\n",
              "    </tr>\n",
              "    <tr>\n",
              "      <th>25%</th>\n",
              "      <td>3.000000</td>\n",
              "      <td>362.000000</td>\n",
              "      <td>23012.000000</td>\n",
              "      <td>1949.000000</td>\n",
              "      <td>1.000000</td>\n",
              "    </tr>\n",
              "    <tr>\n",
              "      <th>50%</th>\n",
              "      <td>5.000000</td>\n",
              "      <td>724.000000</td>\n",
              "      <td>57673.000000</td>\n",
              "      <td>1970.000000</td>\n",
              "      <td>3.000000</td>\n",
              "    </tr>\n",
              "    <tr>\n",
              "      <th>75%</th>\n",
              "      <td>13.000000</td>\n",
              "      <td>1086.000000</td>\n",
              "      <td>115676.000000</td>\n",
              "      <td>1995.000000</td>\n",
              "      <td>5.000000</td>\n",
              "    </tr>\n",
              "    <tr>\n",
              "      <th>max</th>\n",
              "      <td>15.000000</td>\n",
              "      <td>1448.000000</td>\n",
              "      <td>875000.000000</td>\n",
              "      <td>2017.000000</td>\n",
              "      <td>26.000000</td>\n",
              "    </tr>\n",
              "  </tbody>\n",
              "</table>\n",
              "</div>"
            ],
            "text/plain": [
              "           site_id  building_id    square_feet   year_built  floor_count\n",
              "count  1449.000000  1449.000000    1449.000000   675.000000   355.000000\n",
              "mean      6.952381   724.000000   92111.776398  1967.957037     3.740845\n",
              "std       5.003432   418.434583  110769.950997    31.054030     3.333683\n",
              "min       0.000000     0.000000     283.000000  1900.000000     1.000000\n",
              "25%       3.000000   362.000000   23012.000000  1949.000000     1.000000\n",
              "50%       5.000000   724.000000   57673.000000  1970.000000     3.000000\n",
              "75%      13.000000  1086.000000  115676.000000  1995.000000     5.000000\n",
              "max      15.000000  1448.000000  875000.000000  2017.000000    26.000000"
            ]
          },
          "metadata": {
            "tags": []
          },
          "execution_count": 17
        }
      ]
    },
    {
      "cell_type": "markdown",
      "metadata": {
        "id": "hQVyaCMjjJew",
        "colab_type": "text"
      },
      "source": [
        "**Missing Values**"
      ]
    },
    {
      "cell_type": "code",
      "metadata": {
        "id": "gzsRTZ-AReum",
        "colab_type": "code",
        "outputId": "6ccfc74f-27a8-4b4a-afdc-f48a4339a721",
        "colab": {
          "base_uri": "https://localhost:8080/",
          "height": 0
        }
      },
      "source": [
        "# Train missing values\n",
        "\n",
        "total = train_df.isnull().sum().sort_values(ascending = False)\n",
        "percent = (train_df.isnull().sum()/train_df.isnull().count()*100).sort_values(ascending = False)\n",
        "missing__train_df_data  = pd.concat([total, percent], axis=1, keys=['Total', 'Percent'])\n",
        "missing__train_df_data.head(4)"
      ],
      "execution_count": 18,
      "outputs": [
        {
          "output_type": "execute_result",
          "data": {
            "text/html": [
              "<div>\n",
              "<style scoped>\n",
              "    .dataframe tbody tr th:only-of-type {\n",
              "        vertical-align: middle;\n",
              "    }\n",
              "\n",
              "    .dataframe tbody tr th {\n",
              "        vertical-align: top;\n",
              "    }\n",
              "\n",
              "    .dataframe thead th {\n",
              "        text-align: right;\n",
              "    }\n",
              "</style>\n",
              "<table border=\"1\" class=\"dataframe\">\n",
              "  <thead>\n",
              "    <tr style=\"text-align: right;\">\n",
              "      <th></th>\n",
              "      <th>Total</th>\n",
              "      <th>Percent</th>\n",
              "    </tr>\n",
              "  </thead>\n",
              "  <tbody>\n",
              "    <tr>\n",
              "      <th>meter_reading</th>\n",
              "      <td>0</td>\n",
              "      <td>0.0</td>\n",
              "    </tr>\n",
              "    <tr>\n",
              "      <th>timestamp</th>\n",
              "      <td>0</td>\n",
              "      <td>0.0</td>\n",
              "    </tr>\n",
              "    <tr>\n",
              "      <th>meter</th>\n",
              "      <td>0</td>\n",
              "      <td>0.0</td>\n",
              "    </tr>\n",
              "    <tr>\n",
              "      <th>building_id</th>\n",
              "      <td>0</td>\n",
              "      <td>0.0</td>\n",
              "    </tr>\n",
              "  </tbody>\n",
              "</table>\n",
              "</div>"
            ],
            "text/plain": [
              "               Total  Percent\n",
              "meter_reading      0      0.0\n",
              "timestamp          0      0.0\n",
              "meter              0      0.0\n",
              "building_id        0      0.0"
            ]
          },
          "metadata": {
            "tags": []
          },
          "execution_count": 18
        }
      ]
    },
    {
      "cell_type": "code",
      "metadata": {
        "id": "rJmqmXyfRvwo",
        "colab_type": "code",
        "outputId": "efe1aca6-6b9b-41e7-ed04-539a74567413",
        "colab": {
          "base_uri": "https://localhost:8080/",
          "height": 0
        }
      },
      "source": [
        "# Weather missing values\n",
        "\n",
        "total = weather_df.isnull().sum().sort_values(ascending = False)\n",
        "percent = (weather_df.isnull().sum()/weather_df.isnull().count()*100).sort_values(ascending = False)\n",
        "missing_weather_data  = pd.concat([total, percent], axis=1, keys=['Total', 'Percent'])\n",
        "missing_weather_data.head(9)"
      ],
      "execution_count": 19,
      "outputs": [
        {
          "output_type": "execute_result",
          "data": {
            "text/html": [
              "<div>\n",
              "<style scoped>\n",
              "    .dataframe tbody tr th:only-of-type {\n",
              "        vertical-align: middle;\n",
              "    }\n",
              "\n",
              "    .dataframe tbody tr th {\n",
              "        vertical-align: top;\n",
              "    }\n",
              "\n",
              "    .dataframe thead th {\n",
              "        text-align: right;\n",
              "    }\n",
              "</style>\n",
              "<table border=\"1\" class=\"dataframe\">\n",
              "  <thead>\n",
              "    <tr style=\"text-align: right;\">\n",
              "      <th></th>\n",
              "      <th>Total</th>\n",
              "      <th>Percent</th>\n",
              "    </tr>\n",
              "  </thead>\n",
              "  <tbody>\n",
              "    <tr>\n",
              "      <th>cloud_coverage</th>\n",
              "      <td>69173</td>\n",
              "      <td>49.489529</td>\n",
              "    </tr>\n",
              "    <tr>\n",
              "      <th>precip_depth_1_hr</th>\n",
              "      <td>50289</td>\n",
              "      <td>35.979052</td>\n",
              "    </tr>\n",
              "    <tr>\n",
              "      <th>sea_level_pressure</th>\n",
              "      <td>10618</td>\n",
              "      <td>7.596603</td>\n",
              "    </tr>\n",
              "    <tr>\n",
              "      <th>wind_direction</th>\n",
              "      <td>6268</td>\n",
              "      <td>4.484414</td>\n",
              "    </tr>\n",
              "    <tr>\n",
              "      <th>wind_speed</th>\n",
              "      <td>304</td>\n",
              "      <td>0.217496</td>\n",
              "    </tr>\n",
              "    <tr>\n",
              "      <th>dew_temperature</th>\n",
              "      <td>113</td>\n",
              "      <td>0.080845</td>\n",
              "    </tr>\n",
              "    <tr>\n",
              "      <th>air_temperature</th>\n",
              "      <td>55</td>\n",
              "      <td>0.039350</td>\n",
              "    </tr>\n",
              "    <tr>\n",
              "      <th>timestamp</th>\n",
              "      <td>0</td>\n",
              "      <td>0.000000</td>\n",
              "    </tr>\n",
              "    <tr>\n",
              "      <th>site_id</th>\n",
              "      <td>0</td>\n",
              "      <td>0.000000</td>\n",
              "    </tr>\n",
              "  </tbody>\n",
              "</table>\n",
              "</div>"
            ],
            "text/plain": [
              "                    Total    Percent\n",
              "cloud_coverage      69173  49.489529\n",
              "precip_depth_1_hr   50289  35.979052\n",
              "sea_level_pressure  10618   7.596603\n",
              "wind_direction       6268   4.484414\n",
              "wind_speed            304   0.217496\n",
              "dew_temperature       113   0.080845\n",
              "air_temperature        55   0.039350\n",
              "timestamp               0   0.000000\n",
              "site_id                 0   0.000000"
            ]
          },
          "metadata": {
            "tags": []
          },
          "execution_count": 19
        }
      ]
    },
    {
      "cell_type": "code",
      "metadata": {
        "id": "kYngtWe3R2YN",
        "colab_type": "code",
        "outputId": "fcf25b1e-9e15-4254-9fa3-a763e5feb4a5",
        "colab": {
          "base_uri": "https://localhost:8080/",
          "height": 0
        }
      },
      "source": [
        "# Building metadata missing values\n",
        "\n",
        "total = building_df.isnull().sum().sort_values(ascending = False)\n",
        "percent = (building_df.isnull().sum()/building_df.isnull().count()*100).sort_values(ascending = False)\n",
        "missing_building_df  = pd.concat([total, percent], axis=1, keys=['Total', 'Percent'])\n",
        "missing_building_df.head(6)"
      ],
      "execution_count": 20,
      "outputs": [
        {
          "output_type": "execute_result",
          "data": {
            "text/html": [
              "<div>\n",
              "<style scoped>\n",
              "    .dataframe tbody tr th:only-of-type {\n",
              "        vertical-align: middle;\n",
              "    }\n",
              "\n",
              "    .dataframe tbody tr th {\n",
              "        vertical-align: top;\n",
              "    }\n",
              "\n",
              "    .dataframe thead th {\n",
              "        text-align: right;\n",
              "    }\n",
              "</style>\n",
              "<table border=\"1\" class=\"dataframe\">\n",
              "  <thead>\n",
              "    <tr style=\"text-align: right;\">\n",
              "      <th></th>\n",
              "      <th>Total</th>\n",
              "      <th>Percent</th>\n",
              "    </tr>\n",
              "  </thead>\n",
              "  <tbody>\n",
              "    <tr>\n",
              "      <th>floor_count</th>\n",
              "      <td>1094</td>\n",
              "      <td>75.500345</td>\n",
              "    </tr>\n",
              "    <tr>\n",
              "      <th>year_built</th>\n",
              "      <td>774</td>\n",
              "      <td>53.416149</td>\n",
              "    </tr>\n",
              "    <tr>\n",
              "      <th>square_feet</th>\n",
              "      <td>0</td>\n",
              "      <td>0.000000</td>\n",
              "    </tr>\n",
              "    <tr>\n",
              "      <th>primary_use</th>\n",
              "      <td>0</td>\n",
              "      <td>0.000000</td>\n",
              "    </tr>\n",
              "    <tr>\n",
              "      <th>building_id</th>\n",
              "      <td>0</td>\n",
              "      <td>0.000000</td>\n",
              "    </tr>\n",
              "    <tr>\n",
              "      <th>site_id</th>\n",
              "      <td>0</td>\n",
              "      <td>0.000000</td>\n",
              "    </tr>\n",
              "  </tbody>\n",
              "</table>\n",
              "</div>"
            ],
            "text/plain": [
              "             Total    Percent\n",
              "floor_count   1094  75.500345\n",
              "year_built     774  53.416149\n",
              "square_feet      0   0.000000\n",
              "primary_use      0   0.000000\n",
              "building_id      0   0.000000\n",
              "site_id          0   0.000000"
            ]
          },
          "metadata": {
            "tags": []
          },
          "execution_count": 20
        }
      ]
    },
    {
      "cell_type": "code",
      "metadata": {
        "id": "CXEdOqPbR5rz",
        "colab_type": "code",
        "colab": {}
      },
      "source": [
        ""
      ],
      "execution_count": 0,
      "outputs": []
    },
    {
      "cell_type": "markdown",
      "metadata": {
        "id": "t9FKDALijlc2",
        "colab_type": "text"
      },
      "source": [
        "# **Visulization**"
      ]
    },
    {
      "cell_type": "markdown",
      "metadata": {
        "id": "wqQhiKhOkHXW",
        "colab_type": "text"
      },
      "source": [
        "Target : meter_reading"
      ]
    },
    {
      "cell_type": "code",
      "metadata": {
        "id": "m8D82EvDjpZA",
        "colab_type": "code",
        "outputId": "940eee73-f195-405f-c84e-60b7d0544a7f",
        "colab": {
          "base_uri": "https://localhost:8080/",
          "height": 361
        }
      },
      "source": [
        "# TARGET   meter_reading\n",
        "\n",
        "plt.figure(figsize = (15,5))\n",
        "train_df['meter_reading'].plot()"
      ],
      "execution_count": 21,
      "outputs": [
        {
          "output_type": "execute_result",
          "data": {
            "text/plain": [
              "<matplotlib.axes._subplots.AxesSubplot at 0x7f28d9354518>"
            ]
          },
          "metadata": {
            "tags": []
          },
          "execution_count": 21
        },
        {
          "output_type": "display_data",
          "data": {
            "image/png": "[encoded data removed]",
            "text/plain": [
              "<Figure size 1080x360 with 1 Axes>"
            ]
          },
          "metadata": {
            "tags": []
          }
        }
      ]
    },
    {
      "cell_type": "code",
      "metadata": {
        "id": "U4Z1fvwSjvSY",
        "colab_type": "code",
        "outputId": "26042545-02d2-40a5-a9e7-ebfd4bd74e8c",
        "colab": {
          "base_uri": "https://localhost:8080/",
          "height": 369
        }
      },
      "source": [
        "plt.figure(figsize=(16,5))\n",
        "sns.distplot(train_df.meter_reading, hist=False)\n",
        "plt.title(f\"Target variable meter_reading is highly skewed\")\n",
        "plt.ylabel(\"Count of readings\")\n",
        "plt.xlabel(f\"Measured consumption\")\n",
        "plt.xlim(0, train_df.meter_reading.max() + 100_000)\n",
        "plt.tight_layout()\n",
        "plt.show()"
      ],
      "execution_count": 22,
      "outputs": [
        {
          "output_type": "display_data",
          "data": {
            "image/png": "[encoded data removed]",
            "text/plain": [
              "<Figure size 1152x360 with 1 Axes>"
            ]
          },
          "metadata": {
            "tags": []
          }
        }
      ]
    },
    {
      "cell_type": "markdown",
      "metadata": {
        "id": "y3b3V6h9kfsi",
        "colab_type": "text"
      },
      "source": [
        "Buildings "
      ]
    },
    {
      "cell_type": "code",
      "metadata": {
        "id": "yo9XbRMQkBPC",
        "colab_type": "code",
        "outputId": "52f12dec-f35f-4f01-83ff-d29798b99e1d",
        "colab": {
          "base_uri": "https://localhost:8080/",
          "height": 403
        }
      },
      "source": [
        "print(f\"We have {building_df.building_id.nunique()} unique buildings and {building_df.site_id.nunique()} sites of buildings.\")\n",
        "sites_df = pd.DataFrame(building_df.site_id.value_counts())\n",
        "sites_df.sort_values(\"site_id\", inplace=True, ascending=False)\n",
        "sites_ordered_index = sites_df.index\n",
        "print(f\"The number of buildings per site range from {sites_df.site_id.min()} to {sites_df.site_id.max()}.\")\n",
        "\n",
        "plt.figure(figsize=(16,5))\n",
        "sites_df.site_id.plot(kind=\"bar\")\n",
        "plt.title(\"Count of buildings per site_id vary between 274 and 5\")\n",
        "plt.ylabel(\"Count of buildings\")\n",
        "plt.xlabel(\"site id\")\n",
        "plt.xticks(rotation=45)\n",
        "plt.tight_layout()\n",
        "plt.show()"
      ],
      "execution_count": 23,
      "outputs": [
        {
          "output_type": "stream",
          "text": [
            "We have 1449 unique buildings and 16 sites of buildings.\n",
            "The number of buildings per site range from 5 to 274.\n"
          ],
          "name": "stdout"
        },
        {
          "output_type": "display_data",
          "data": {
            "image/png": "[encoded data removed]",
            "text/plain": [
              "<Figure size 1152x360 with 1 Axes>"
            ]
          },
          "metadata": {
            "tags": []
          }
        }
      ]
    },
    {
      "cell_type": "markdown",
      "metadata": {
        "id": "qBOnMVvSlDcL",
        "colab_type": "text"
      },
      "source": [
        "Weather"
      ]
    },
    {
      "cell_type": "code",
      "metadata": {
        "id": "_WTz4U2dkhpH",
        "colab_type": "code",
        "outputId": "c16ab135-7e71-484e-a609-26259c73283b",
        "colab": {
          "base_uri": "https://localhost:8080/",
          "height": 1000
        }
      },
      "source": [
        "def plot_dist_col(column):\n",
        "    '''plot dist curves for train and test weather data for the given column name'''\n",
        "    fig, ax = plt.subplots(figsize=(10, 10))\n",
        "    sns.distplot(weather_df[column].dropna(), color='green', ax=ax).set_title(column, fontsize=16)\n",
        "    plt.xlabel(column, fontsize=15)\n",
        "    plt.legend(['train'])\n",
        "    plt.show()\n",
        "\n",
        "plot_dist_col('air_temperature')\n",
        "plot_dist_col('cloud_coverage')\n",
        "plot_dist_col('dew_temperature')\n",
        "plot_dist_col('sea_level_pressure')\n"
      ],
      "execution_count": 24,
      "outputs": [
        {
          "output_type": "display_data",
          "data": {
            "image/png": "[encoded data removed]",
            "text/plain": [
              "<Figure size 720x720 with 1 Axes>"
            ]
          },
          "metadata": {
            "tags": []
          }
        },
        {
          "output_type": "display_data",
          "data": {
            "image/png": "[encoded data removed]",
            "text/plain": [
              "<Figure size 720x720 with 1 Axes>"
            ]
          },
          "metadata": {
            "tags": []
          }
        },
        {
          "output_type": "display_data",
          "data": {
            "image/png": "[encoded data removed]",
            "text/plain": [
              "<Figure size 720x720 with 1 Axes>"
            ]
          },
          "metadata": {
            "tags": []
          }
        },
        {
          "output_type": "display_data",
          "data": {
            "image/png": "[encoded data removed]",
            "text/plain": [
              "<Figure size 720x720 with 1 Axes>"
            ]
          },
          "metadata": {
            "tags": []
          }
        }
      ]
    },
    {
      "cell_type": "markdown",
      "metadata": {
        "id": "LtaIchMxlqhD",
        "colab_type": "text"
      },
      "source": [
        "**Feature Correlation**"
      ]
    },
    {
      "cell_type": "code",
      "metadata": {
        "id": "JOw8b2g4lFW-",
        "colab_type": "code",
        "outputId": "0e464c15-5804-463e-8d64-d1fbe7eddd73",
        "colab": {
          "base_uri": "https://localhost:8080/",
          "height": 500
        }
      },
      "source": [
        "# Train correlation\n",
        "\n",
        "plt.figure(figsize = (20, 8))\n",
        "corrs = train_df.corr()\n",
        "# Heatmap of correlations\n",
        "sns.heatmap(corrs, cmap = plt.cm.RdYlBu_r, vmin = -0.25, annot = True, vmax = 0.6)\n",
        "plt.title('Correlation Heatmap');"
      ],
      "execution_count": 25,
      "outputs": [
        {
          "output_type": "display_data",
          "data": {
            "image/png": "[encoded data removed]",
            "text/plain": [
              "<Figure size 1440x576 with 2 Axes>"
            ]
          },
          "metadata": {
            "tags": []
          }
        }
      ]
    },
    {
      "cell_type": "markdown",
      "metadata": {
        "id": "uv9UseyZmH0Z",
        "colab_type": "text"
      },
      "source": [
        "**Time series analysis**"
      ]
    },
    {
      "cell_type": "code",
      "metadata": {
        "id": "lvwwbaPSl07C",
        "colab_type": "code",
        "colab": {}
      },
      "source": [
        "# from statsmodels.tsa.seasonal import seasonal_decompose\n",
        "# ts=train_df.groupby([\"timestamp\"])[\"meter_reading\"].sum()\n",
        "# ts.astype('float')\n",
        "# plt.figure(figsize=(16,8))\n",
        "# plt.title('meter_reading')\n",
        "# plt.xlabel('timestamp')\n",
        "# plt.ylabel('meter_reading')\n",
        "# plt.plot(ts);"
      ],
      "execution_count": 0,
      "outputs": []
    },
    {
      "cell_type": "code",
      "metadata": {
        "id": "tag3g1W8mKt4",
        "colab_type": "code",
        "colab": {}
      },
      "source": [
        "# y_mean_time = train_df.groupby('timestamp').meter_reading.mean()\n",
        "# y_mean_time.plot(figsize=(20, 8))"
      ],
      "execution_count": 0,
      "outputs": []
    },
    {
      "cell_type": "code",
      "metadata": {
        "id": "sRp89xpUU28C",
        "colab_type": "code",
        "colab": {}
      },
      "source": [
        ""
      ],
      "execution_count": 0,
      "outputs": []
    },
    {
      "cell_type": "markdown",
      "metadata": {
        "id": "l7JlUan4VJvY",
        "colab_type": "text"
      },
      "source": [
        "# **Data Preparation**"
      ]
    },
    {
      "cell_type": "markdown",
      "metadata": {
        "id": "4ubv8FKBWGKS",
        "colab_type": "text"
      },
      "source": [
        "\n",
        "\n",
        "*   Removing Outliers\n",
        "*   Replace Missing Values In Weather\n",
        "*   Reduce Memory usage\n",
        "*   Merge Data\n",
        "*   Feature engineering (Encoding categories, droping unused columns\n"
      ]
    },
    {
      "cell_type": "markdown",
      "metadata": {
        "id": "DJp-44gSWd_z",
        "colab_type": "text"
      },
      "source": [
        "**Removing Outliers**"
      ]
    },
    {
      "cell_type": "code",
      "metadata": {
        "id": "Li5oooU-VX0a",
        "colab_type": "code",
        "colab": {}
      },
      "source": [
        "train_df = train_df [ train_df['building_id'] != 1099 ]\n",
        "train_df = train_df.query('not (building_id <= 104 & meter == 0 & timestamp <= \"2016-05-20\")')"
      ],
      "execution_count": 0,
      "outputs": []
    },
    {
      "cell_type": "markdown",
      "metadata": {
        "id": "7JDPBtaeXEku",
        "colab_type": "text"
      },
      "source": [
        "**Replace Missing Values In Weather**"
      ]
    },
    {
      "cell_type": "code",
      "metadata": {
        "id": "9vVjoSdkXAC7",
        "colab_type": "code",
        "colab": {}
      },
      "source": [
        "def fill_weather_dataset(weather_df):\n",
        "    \n",
        "    # Find Missing Dates\n",
        "    time_format = \"%Y-%m-%d %H:%M:%S\"\n",
        "    start_date = datetime.datetime.strptime(weather_df['timestamp'].min(),time_format)\n",
        "    end_date = datetime.datetime.strptime(weather_df['timestamp'].max(),time_format)\n",
        "    total_hours = int(((end_date - start_date).total_seconds() + 3600) / 3600)\n",
        "    hours_list = [(end_date - datetime.timedelta(hours=x)).strftime(time_format) for x in range(total_hours)]\n",
        "\n",
        "    missing_hours = []\n",
        "    for site_id in range(16):\n",
        "        site_hours = np.array(weather_df[weather_df['site_id'] == site_id]['timestamp'])\n",
        "        new_rows = pd.DataFrame(np.setdiff1d(hours_list,site_hours),columns=['timestamp'])\n",
        "        new_rows['site_id'] = site_id\n",
        "        weather_df = pd.concat([weather_df,new_rows])\n",
        "\n",
        "        weather_df = weather_df.reset_index(drop=True)           \n",
        "\n",
        "    # Add new Features\n",
        "    weather_df[\"datetime\"] = pd.to_datetime(weather_df[\"timestamp\"])\n",
        "    weather_df[\"day\"] = weather_df[\"datetime\"].dt.day\n",
        "    weather_df[\"week\"] = weather_df[\"datetime\"].dt.week\n",
        "    weather_df[\"month\"] = weather_df[\"datetime\"].dt.month\n",
        "    \n",
        "    # Reset Index for Fast Update\n",
        "    weather_df = weather_df.set_index(['site_id','day','month'])\n",
        "\n",
        "    air_temperature_filler = pd.DataFrame(weather_df.groupby(['site_id','day','month'])['air_temperature'].mean(),columns=[\"air_temperature\"])\n",
        "    weather_df.update(air_temperature_filler,overwrite=False)\n",
        "\n",
        "    # Step 1\n",
        "    cloud_coverage_filler = weather_df.groupby(['site_id','day','month'])['cloud_coverage'].mean()\n",
        "    # Step 2\n",
        "    cloud_coverage_filler = pd.DataFrame(cloud_coverage_filler.fillna(method='ffill'),columns=[\"cloud_coverage\"])\n",
        "\n",
        "    weather_df.update(cloud_coverage_filler,overwrite=False)\n",
        "\n",
        "    due_temperature_filler = pd.DataFrame(weather_df.groupby(['site_id','day','month'])['dew_temperature'].mean(),columns=[\"dew_temperature\"])\n",
        "    weather_df.update(due_temperature_filler,overwrite=False)\n",
        "\n",
        "    # Step 1\n",
        "    sea_level_filler = weather_df.groupby(['site_id','day','month'])['sea_level_pressure'].mean()\n",
        "    # Step 2\n",
        "    sea_level_filler = pd.DataFrame(sea_level_filler.fillna(method='ffill'),columns=['sea_level_pressure'])\n",
        "\n",
        "    weather_df.update(sea_level_filler,overwrite=False)\n",
        "\n",
        "    wind_direction_filler =  pd.DataFrame(weather_df.groupby(['site_id','day','month'])['wind_direction'].mean(),columns=['wind_direction'])\n",
        "    weather_df.update(wind_direction_filler,overwrite=False)\n",
        "\n",
        "    wind_speed_filler =  pd.DataFrame(weather_df.groupby(['site_id','day','month'])['wind_speed'].mean(),columns=['wind_speed'])\n",
        "    weather_df.update(wind_speed_filler,overwrite=False)\n",
        "\n",
        "    # Step 1\n",
        "    precip_depth_filler = weather_df.groupby(['site_id','day','month'])['precip_depth_1_hr'].mean()\n",
        "    # Step 2\n",
        "    precip_depth_filler = pd.DataFrame(precip_depth_filler.fillna(method='ffill'),columns=['precip_depth_1_hr'])\n",
        "\n",
        "    weather_df.update(precip_depth_filler,overwrite=False)\n",
        "\n",
        "    weather_df = weather_df.reset_index()\n",
        "    weather_df = weather_df.drop(['datetime','day','week','month'],axis=1)\n",
        "        \n",
        "    return weather_df\n"
      ],
      "execution_count": 0,
      "outputs": []
    },
    {
      "cell_type": "code",
      "metadata": {
        "id": "CCmzS6ktXMBl",
        "colab_type": "code",
        "colab": {}
      },
      "source": [
        "weather_df = fill_weather_dataset(weather_df)"
      ],
      "execution_count": 0,
      "outputs": []
    },
    {
      "cell_type": "markdown",
      "metadata": {
        "id": "-ofF75lpXvq1",
        "colab_type": "text"
      },
      "source": [
        "Reduce Memory usage"
      ]
    },
    {
      "cell_type": "code",
      "metadata": {
        "id": "qMLMQBwSXTSX",
        "colab_type": "code",
        "colab": {}
      },
      "source": [
        "\n",
        "# THIS FUNCTION IS USED ACROSS THE COMPETITION TO REDUCE MEMOERY\n",
        "\n",
        "from pandas.api.types import is_datetime64_any_dtype as is_datetime\n",
        "from pandas.api.types import is_categorical_dtype\n",
        "def reduce_mem_usage(df, use_float16=False):\n",
        "    \"\"\"\n",
        "    Iterate through all the columns of a dataframe and modify the data type to reduce memory usage.        \n",
        "    \"\"\"\n",
        "    \n",
        "    start_mem = df.memory_usage().sum() / 1024**2\n",
        "    print(\"Memory usage of dataframe is {:.2f} MB\".format(start_mem))\n",
        "    \n",
        "    for col in df.columns:\n",
        "        if is_datetime(df[col]) or is_categorical_dtype(df[col]):\n",
        "            continue\n",
        "        col_type = df[col].dtype\n",
        "        \n",
        "        if col_type != object:\n",
        "            c_min = df[col].min()\n",
        "            c_max = df[col].max()\n",
        "            if str(col_type)[:3] == \"int\":\n",
        "                if c_min > np.iinfo(np.int8).min and c_max < np.iinfo(np.int8).max:\n",
        "                    df[col] = df[col].astype(np.int8)\n",
        "                elif c_min > np.iinfo(np.int16).min and c_max < np.iinfo(np.int16).max:\n",
        "                    df[col] = df[col].astype(np.int16)\n",
        "                elif c_min > np.iinfo(np.int32).min and c_max < np.iinfo(np.int32).max:\n",
        "                    df[col] = df[col].astype(np.int32)\n",
        "                elif c_min > np.iinfo(np.int64).min and c_max < np.iinfo(np.int64).max:\n",
        "                    df[col] = df[col].astype(np.int64)  \n",
        "            else:\n",
        "                if use_float16 and c_min > np.finfo(np.float16).min and c_max < np.finfo(np.float16).max:\n",
        "                    df[col] = df[col].astype(np.float16)\n",
        "                elif c_min > np.finfo(np.float32).min and c_max < np.finfo(np.float32).max:\n",
        "                    df[col] = df[col].astype(np.float32)\n",
        "                else:\n",
        "                    df[col] = df[col].astype(np.float64)\n",
        "        else:\n",
        "            df[col] = df[col].astype(\"category\")\n",
        "\n",
        "    end_mem = df.memory_usage().sum() / 1024**2\n",
        "    print(\"Memory usage after optimization is: {:.2f} MB\".format(end_mem))\n",
        "    print(\"Decreased by {:.1f}%\".format(100 * (start_mem - end_mem) / start_mem))\n",
        "    \n",
        "    return df\n"
      ],
      "execution_count": 0,
      "outputs": []
    },
    {
      "cell_type": "code",
      "metadata": {
        "id": "Oiy5mxlWXyZN",
        "colab_type": "code",
        "outputId": "c87cbb6e-1f8e-402b-947d-82b585e48d36",
        "colab": {
          "base_uri": "https://localhost:8080/",
          "height": 0
        }
      },
      "source": [
        "train_df = reduce_mem_usage(train_df,use_float16=True)\n",
        "building_df = reduce_mem_usage(building_df,use_float16=True)\n",
        "weather_df = reduce_mem_usage(weather_df,use_float16=True)"
      ],
      "execution_count": 32,
      "outputs": [
        {
          "output_type": "stream",
          "text": [
            "Memory usage of dataframe is 757.31 MB\n",
            "Memory usage after optimization is: 322.24 MB\n",
            "Decreased by 57.4%\n",
            "Memory usage of dataframe is 0.07 MB\n",
            "Memory usage after optimization is: 0.02 MB\n",
            "Decreased by 73.8%\n",
            "Memory usage of dataframe is 9.65 MB\n",
            "Memory usage after optimization is: 2.66 MB\n",
            "Decreased by 72.5%\n"
          ],
          "name": "stdout"
        }
      ]
    },
    {
      "cell_type": "markdown",
      "metadata": {
        "id": "nTr-nGA1YXCj",
        "colab_type": "text"
      },
      "source": [
        "**Merge Data**"
      ]
    },
    {
      "cell_type": "code",
      "metadata": {
        "id": "IaowTfgVX2lJ",
        "colab_type": "code",
        "outputId": "91112d7e-e4e2-4bae-91b0-20a7e1642285",
        "colab": {
          "base_uri": "https://localhost:8080/",
          "height": 0
        }
      },
      "source": [
        "train_df = train_df.merge(building_df, left_on='building_id',right_on='building_id',how='left')\n",
        "train_df = train_df.merge(weather_df,how='left',left_on=['site_id','timestamp'],right_on=['site_id','timestamp'])\n",
        "del weather_df\n",
        "gc.collect()"
      ],
      "execution_count": 33,
      "outputs": [
        {
          "output_type": "execute_result",
          "data": {
            "text/plain": [
              "0"
            ]
          },
          "metadata": {
            "tags": []
          },
          "execution_count": 33
        }
      ]
    },
    {
      "cell_type": "markdown",
      "metadata": {
        "id": "QzJaGm3tYlN5",
        "colab_type": "text"
      },
      "source": [
        "**Feature Engineering**"
      ]
    },
    {
      "cell_type": "code",
      "metadata": {
        "id": "Og2p6TK0Ya-Y",
        "colab_type": "code",
        "colab": {}
      },
      "source": [
        "def features_engineering(df):\n",
        "    \n",
        "    # Sort by timestamp\n",
        "    df.sort_values(\"timestamp\")\n",
        "    df.reset_index(drop=True)\n",
        "    \n",
        "    # Add more features\n",
        "    df[\"timestamp\"] = pd.to_datetime(df[\"timestamp\"],format=\"%Y-%m-%d %H:%M:%S\")\n",
        "    df[\"hour\"] = df[\"timestamp\"].dt.hour\n",
        "    df[\"weekend\"] = df[\"timestamp\"].dt.weekday\n",
        "    df['square_feet'] =  np.log1p(df['square_feet'])\n",
        "    \n",
        "    # Remove Unused Columns\n",
        "    drop = [\"timestamp\",\"sea_level_pressure\", \"wind_direction\", \"wind_speed\",\"year_built\",\"floor_count\"]\n",
        "    df = df.drop(drop, axis=1)\n",
        "    gc.collect()\n",
        "    \n",
        "    # Encode Categorical Data\n",
        "    le = LabelEncoder()\n",
        "    df[\"primary_use\"] = le.fit_transform(df[\"primary_use\"])\n",
        "    \n",
        "    return df"
      ],
      "execution_count": 0,
      "outputs": []
    },
    {
      "cell_type": "code",
      "metadata": {
        "id": "GvmbArWKYsah",
        "colab_type": "code",
        "colab": {}
      },
      "source": [
        "train_df = features_engineering(train_df)"
      ],
      "execution_count": 0,
      "outputs": []
    },
    {
      "cell_type": "code",
      "metadata": {
        "id": "cuzH4Z7XYu9f",
        "colab_type": "code",
        "outputId": "b61c148a-3b6c-4561-a778-5aac54351251",
        "colab": {
          "base_uri": "https://localhost:8080/",
          "height": 0
        }
      },
      "source": [
        "target = np.log1p(train_df[\"meter_reading\"])\n",
        "features = train_df.drop('meter_reading', axis = 1)\n",
        "del train_df\n",
        "gc.collect()"
      ],
      "execution_count": 36,
      "outputs": [
        {
          "output_type": "execute_result",
          "data": {
            "text/plain": [
              "0"
            ]
          },
          "metadata": {
            "tags": []
          },
          "execution_count": 36
        }
      ]
    },
    {
      "cell_type": "code",
      "metadata": {
        "id": "Iz6m3bb1ZASQ",
        "colab_type": "code",
        "colab": {}
      },
      "source": [
        ""
      ],
      "execution_count": 0,
      "outputs": []
    },
    {
      "cell_type": "markdown",
      "metadata": {
        "id": "ZJwl_aZnZK05",
        "colab_type": "text"
      },
      "source": [
        "# **Training**"
      ]
    },
    {
      "cell_type": "code",
      "metadata": {
        "id": "QRBW87ZuZOly",
        "colab_type": "code",
        "colab": {}
      },
      "source": [
        "from sklearn.model_selection import train_test_split\n",
        "from sklearn.model_selection import RandomizedSearchCV, GridSearchCV\n",
        "from tensorflow.keras.wrappers.scikit_learn import KerasRegressor\n",
        "from tensorflow.keras.layers import Dense, Input, Dropout,Embedding, BatchNormalization\n",
        "from tensorflow.keras import Sequential\n",
        "from keras import backend as K\n",
        "\n",
        "\n",
        "\n",
        "def Model():\n",
        "  model = Sequential()\n",
        "  model.add(Dense(512,activation='relu',input_shape=(11,)))\n",
        "  model.add(BatchNormalization())\n",
        "  model.add(Dropout(0.2),)\n",
        "  model.add(Dense(128,activation='relu'))\n",
        "  model.add(BatchNormalization())\n",
        "  model.add(Dropout(0.1),)\n",
        "  model.add(Dense(64,activation='relu'))\n",
        "  model.add(BatchNormalization())\n",
        "  model.add(Dropout(0.1),)\n",
        "  model.add(Dense(32,activation='relu'))\n",
        "  model.add(BatchNormalization())\n",
        "  model.add(Dropout(0.1),)\n",
        "  model.add(Dense(16,activation='relu'))\n",
        "  model.add(BatchNormalization())\n",
        "  model.add(Dropout(0.1),)\n",
        "  model.add(Dense(1,activation='relu'))\n",
        "  model.compile(loss='mse', optimizer='adam', metrics=[root_mean_squared_error])\n",
        "  return model\n",
        "\n",
        "def root_mean_squared_error(y_true, y_pred):\n",
        "    return K.sqrt(K.mean(K.square(y_pred - y_true), axis=0))"
      ],
      "execution_count": 0,
      "outputs": []
    },
    {
      "cell_type": "code",
      "metadata": {
        "id": "-plE1VaRZWwD",
        "colab_type": "code",
        "colab": {}
      },
      "source": [
        "X_train, X_test, y_train, y_test = train_test_split(features, target, test_size=0.2)"
      ],
      "execution_count": 0,
      "outputs": []
    },
    {
      "cell_type": "code",
      "metadata": {
        "id": "srhjWo3gZYmd",
        "colab_type": "code",
        "outputId": "c452e3db-7bee-44e5-8722-2f5f916a990f",
        "colab": {
          "base_uri": "https://localhost:8080/",
          "height": 88
        }
      },
      "source": [
        "model = Model()"
      ],
      "execution_count": 39,
      "outputs": [
        {
          "output_type": "stream",
          "text": [
            "WARNING:tensorflow:From /usr/local/lib/python3.6/dist-packages/tensorflow_core/python/ops/resource_variable_ops.py:1630: calling BaseResourceVariable.__init__ (from tensorflow.python.ops.resource_variable_ops) with constraint is deprecated and will be removed in a future version.\n",
            "Instructions for updating:\n",
            "If using Keras pass *_constraint arguments to layers.\n"
          ],
          "name": "stdout"
        }
      ]
    },
    {
      "cell_type": "code",
      "metadata": {
        "id": "kqezUttfZgMV",
        "colab_type": "code",
        "colab": {}
      },
      "source": [
        "# hist = model.fit(X_train,y_train,epochs=10,batch_size=8192,validation_data=(X_test,y_test),verbose=1,)"
      ],
      "execution_count": 0,
      "outputs": []
    },
    {
      "cell_type": "code",
      "metadata": {
        "id": "x7z3gXmyUcIa",
        "colab_type": "code",
        "colab": {}
      },
      "source": [
        "# model.save('/content/drive/My Drive/ashrae-energy-prediction/my_model.h5')\n",
        "from tensorflow import keras\n",
        "dependencies = {\n",
        "    'root_mean_squared_error': root_mean_squared_error\n",
        "}\n",
        "my_model =keras.models.load_model('/content/drive/My Drive/ashrae-energy-prediction/my_model.h5',custom_objects=dependencies)"
      ],
      "execution_count": 0,
      "outputs": []
    },
    {
      "cell_type": "code",
      "metadata": {
        "id": "f8uKgWc_fjOQ",
        "colab_type": "code",
        "colab": {
          "base_uri": "https://localhost:8080/",
          "height": 68
        },
        "outputId": "855b4958-ff3f-4940-ff7b-16d7afc28dea"
      },
      "source": [
        "test_df = pd.read_csv(root+ 'test.csv')\n",
        "row_ids = test_df[\"row_id\"]\n",
        "test_df.drop(\"row_id\", axis=1, inplace=True)\n",
        "test_df = reduce_mem_usage(test_df)"
      ],
      "execution_count": 46,
      "outputs": [
        {
          "output_type": "stream",
          "text": [
            "Memory usage of dataframe is 954.38 MB\n",
            "Memory usage after optimization is: 199.59 MB\n",
            "Decreased by 79.1%\n"
          ],
          "name": "stdout"
        }
      ]
    },
    {
      "cell_type": "code",
      "metadata": {
        "id": "9rth8342FPcb",
        "colab_type": "code",
        "colab": {
          "base_uri": "https://localhost:8080/",
          "height": 34
        },
        "outputId": "dcf70719-e270-4b01-8fd0-194e8197cc64"
      },
      "source": [
        "test_df = test_df.merge(building_df,left_on='building_id',right_on='building_id',how='left')\n",
        "del building_df\n",
        "gc.collect()"
      ],
      "execution_count": 47,
      "outputs": [
        {
          "output_type": "execute_result",
          "data": {
            "text/plain": [
              "692"
            ]
          },
          "metadata": {
            "tags": []
          },
          "execution_count": 47
        }
      ]
    },
    {
      "cell_type": "code",
      "metadata": {
        "id": "P5xSajJPFXqU",
        "colab_type": "code",
        "colab": {
          "base_uri": "https://localhost:8080/",
          "height": 68
        },
        "outputId": "236a6f26-b312-4206-ff45-6b72cb420cc3"
      },
      "source": [
        "weather_df = pd.read_csv(root + 'weather_test.csv')\n",
        "weather_df = fill_weather_dataset(weather_df)\n",
        "weather_df = reduce_mem_usage(weather_df)"
      ],
      "execution_count": 48,
      "outputs": [
        {
          "output_type": "stream",
          "text": [
            "Memory usage of dataframe is 19.25 MB\n",
            "Memory usage after optimization is: 9.05 MB\n",
            "Decreased by 53.0%\n"
          ],
          "name": "stdout"
        }
      ]
    },
    {
      "cell_type": "code",
      "metadata": {
        "id": "9Z08DeM3FaGm",
        "colab_type": "code",
        "colab": {
          "base_uri": "https://localhost:8080/",
          "height": 34
        },
        "outputId": "acaffb24-d1a0-43c9-ea84-58a63692d9c0"
      },
      "source": [
        "test_df = test_df.merge(weather_df,how='left',on=['timestamp','site_id'])\n",
        "del weather_df\n",
        "gc.collect()"
      ],
      "execution_count": 49,
      "outputs": [
        {
          "output_type": "execute_result",
          "data": {
            "text/plain": [
              "0"
            ]
          },
          "metadata": {
            "tags": []
          },
          "execution_count": 49
        }
      ]
    },
    {
      "cell_type": "code",
      "metadata": {
        "id": "Vd6EUwRfFc3u",
        "colab_type": "code",
        "colab": {}
      },
      "source": [
        "test_df = features_engineering(test_df)"
      ],
      "execution_count": 0,
      "outputs": []
    },
    {
      "cell_type": "code",
      "metadata": {
        "id": "V1HW6iMyFfSb",
        "colab_type": "code",
        "colab": {
          "base_uri": "https://localhost:8080/",
          "height": 669
        },
        "outputId": "04a16099-a55b-493b-ca81-8bd276801c8d"
      },
      "source": [
        "test_df.head(20) "
      ],
      "execution_count": 51,
      "outputs": [
        {
          "output_type": "execute_result",
          "data": {
            "text/html": [
              "<div>\n",
              "<style scoped>\n",
              "    .dataframe tbody tr th:only-of-type {\n",
              "        vertical-align: middle;\n",
              "    }\n",
              "\n",
              "    .dataframe tbody tr th {\n",
              "        vertical-align: top;\n",
              "    }\n",
              "\n",
              "    .dataframe thead th {\n",
              "        text-align: right;\n",
              "    }\n",
              "</style>\n",
              "<table border=\"1\" class=\"dataframe\">\n",
              "  <thead>\n",
              "    <tr style=\"text-align: right;\">\n",
              "      <th></th>\n",
              "      <th>building_id</th>\n",
              "      <th>meter</th>\n",
              "      <th>site_id</th>\n",
              "      <th>primary_use</th>\n",
              "      <th>square_feet</th>\n",
              "      <th>air_temperature</th>\n",
              "      <th>cloud_coverage</th>\n",
              "      <th>dew_temperature</th>\n",
              "      <th>precip_depth_1_hr</th>\n",
              "      <th>hour</th>\n",
              "      <th>weekend</th>\n",
              "    </tr>\n",
              "  </thead>\n",
              "  <tbody>\n",
              "    <tr>\n",
              "      <th>0</th>\n",
              "      <td>0</td>\n",
              "      <td>0</td>\n",
              "      <td>0</td>\n",
              "      <td>0</td>\n",
              "      <td>8.913685</td>\n",
              "      <td>17.799999</td>\n",
              "      <td>4.0</td>\n",
              "      <td>11.7</td>\n",
              "      <td>0.282609</td>\n",
              "      <td>0</td>\n",
              "      <td>6</td>\n",
              "    </tr>\n",
              "    <tr>\n",
              "      <th>1</th>\n",
              "      <td>1</td>\n",
              "      <td>0</td>\n",
              "      <td>0</td>\n",
              "      <td>0</td>\n",
              "      <td>7.908755</td>\n",
              "      <td>17.799999</td>\n",
              "      <td>4.0</td>\n",
              "      <td>11.7</td>\n",
              "      <td>0.282609</td>\n",
              "      <td>0</td>\n",
              "      <td>6</td>\n",
              "    </tr>\n",
              "    <tr>\n",
              "      <th>2</th>\n",
              "      <td>2</td>\n",
              "      <td>0</td>\n",
              "      <td>0</td>\n",
              "      <td>0</td>\n",
              "      <td>8.589886</td>\n",
              "      <td>17.799999</td>\n",
              "      <td>4.0</td>\n",
              "      <td>11.7</td>\n",
              "      <td>0.282609</td>\n",
              "      <td>0</td>\n",
              "      <td>6</td>\n",
              "    </tr>\n",
              "    <tr>\n",
              "      <th>3</th>\n",
              "      <td>3</td>\n",
              "      <td>0</td>\n",
              "      <td>0</td>\n",
              "      <td>0</td>\n",
              "      <td>10.072639</td>\n",
              "      <td>17.799999</td>\n",
              "      <td>4.0</td>\n",
              "      <td>11.7</td>\n",
              "      <td>0.282609</td>\n",
              "      <td>0</td>\n",
              "      <td>6</td>\n",
              "    </tr>\n",
              "    <tr>\n",
              "      <th>4</th>\n",
              "      <td>4</td>\n",
              "      <td>0</td>\n",
              "      <td>0</td>\n",
              "      <td>0</td>\n",
              "      <td>11.666573</td>\n",
              "      <td>17.799999</td>\n",
              "      <td>4.0</td>\n",
              "      <td>11.7</td>\n",
              "      <td>0.282609</td>\n",
              "      <td>0</td>\n",
              "      <td>6</td>\n",
              "    </tr>\n",
              "    <tr>\n",
              "      <th>5</th>\n",
              "      <td>5</td>\n",
              "      <td>0</td>\n",
              "      <td>0</td>\n",
              "      <td>0</td>\n",
              "      <td>8.987322</td>\n",
              "      <td>17.799999</td>\n",
              "      <td>4.0</td>\n",
              "      <td>11.7</td>\n",
              "      <td>0.282609</td>\n",
              "      <td>0</td>\n",
              "      <td>6</td>\n",
              "    </tr>\n",
              "    <tr>\n",
              "      <th>6</th>\n",
              "      <td>6</td>\n",
              "      <td>0</td>\n",
              "      <td>0</td>\n",
              "      <td>4</td>\n",
              "      <td>10.237349</td>\n",
              "      <td>17.799999</td>\n",
              "      <td>4.0</td>\n",
              "      <td>11.7</td>\n",
              "      <td>0.282609</td>\n",
              "      <td>0</td>\n",
              "      <td>6</td>\n",
              "    </tr>\n",
              "    <tr>\n",
              "      <th>7</th>\n",
              "      <td>7</td>\n",
              "      <td>0</td>\n",
              "      <td>0</td>\n",
              "      <td>0</td>\n",
              "      <td>11.704165</td>\n",
              "      <td>17.799999</td>\n",
              "      <td>4.0</td>\n",
              "      <td>11.7</td>\n",
              "      <td>0.282609</td>\n",
              "      <td>0</td>\n",
              "      <td>6</td>\n",
              "    </tr>\n",
              "    <tr>\n",
              "      <th>8</th>\n",
              "      <td>7</td>\n",
              "      <td>1</td>\n",
              "      <td>0</td>\n",
              "      <td>0</td>\n",
              "      <td>11.704165</td>\n",
              "      <td>17.799999</td>\n",
              "      <td>4.0</td>\n",
              "      <td>11.7</td>\n",
              "      <td>0.282609</td>\n",
              "      <td>0</td>\n",
              "      <td>6</td>\n",
              "    </tr>\n",
              "    <tr>\n",
              "      <th>9</th>\n",
              "      <td>8</td>\n",
              "      <td>0</td>\n",
              "      <td>0</td>\n",
              "      <td>0</td>\n",
              "      <td>11.015510</td>\n",
              "      <td>17.799999</td>\n",
              "      <td>4.0</td>\n",
              "      <td>11.7</td>\n",
              "      <td>0.282609</td>\n",
              "      <td>0</td>\n",
              "      <td>6</td>\n",
              "    </tr>\n",
              "    <tr>\n",
              "      <th>10</th>\n",
              "      <td>9</td>\n",
              "      <td>0</td>\n",
              "      <td>0</td>\n",
              "      <td>6</td>\n",
              "      <td>10.203629</td>\n",
              "      <td>17.799999</td>\n",
              "      <td>4.0</td>\n",
              "      <td>11.7</td>\n",
              "      <td>0.282609</td>\n",
              "      <td>0</td>\n",
              "      <td>6</td>\n",
              "    </tr>\n",
              "    <tr>\n",
              "      <th>11</th>\n",
              "      <td>9</td>\n",
              "      <td>1</td>\n",
              "      <td>0</td>\n",
              "      <td>6</td>\n",
              "      <td>10.203629</td>\n",
              "      <td>17.799999</td>\n",
              "      <td>4.0</td>\n",
              "      <td>11.7</td>\n",
              "      <td>0.282609</td>\n",
              "      <td>0</td>\n",
              "      <td>6</td>\n",
              "    </tr>\n",
              "    <tr>\n",
              "      <th>12</th>\n",
              "      <td>10</td>\n",
              "      <td>0</td>\n",
              "      <td>0</td>\n",
              "      <td>1</td>\n",
              "      <td>12.823348</td>\n",
              "      <td>17.799999</td>\n",
              "      <td>4.0</td>\n",
              "      <td>11.7</td>\n",
              "      <td>0.282609</td>\n",
              "      <td>0</td>\n",
              "      <td>6</td>\n",
              "    </tr>\n",
              "    <tr>\n",
              "      <th>13</th>\n",
              "      <td>11</td>\n",
              "      <td>0</td>\n",
              "      <td>0</td>\n",
              "      <td>0</td>\n",
              "      <td>10.801085</td>\n",
              "      <td>17.799999</td>\n",
              "      <td>4.0</td>\n",
              "      <td>11.7</td>\n",
              "      <td>0.282609</td>\n",
              "      <td>0</td>\n",
              "      <td>6</td>\n",
              "    </tr>\n",
              "    <tr>\n",
              "      <th>14</th>\n",
              "      <td>12</td>\n",
              "      <td>0</td>\n",
              "      <td>0</td>\n",
              "      <td>4</td>\n",
              "      <td>10.521399</td>\n",
              "      <td>17.799999</td>\n",
              "      <td>4.0</td>\n",
              "      <td>11.7</td>\n",
              "      <td>0.282609</td>\n",
              "      <td>0</td>\n",
              "      <td>6</td>\n",
              "    </tr>\n",
              "    <tr>\n",
              "      <th>15</th>\n",
              "      <td>13</td>\n",
              "      <td>0</td>\n",
              "      <td>0</td>\n",
              "      <td>0</td>\n",
              "      <td>11.506716</td>\n",
              "      <td>17.799999</td>\n",
              "      <td>4.0</td>\n",
              "      <td>11.7</td>\n",
              "      <td>0.282609</td>\n",
              "      <td>0</td>\n",
              "      <td>6</td>\n",
              "    </tr>\n",
              "    <tr>\n",
              "      <th>16</th>\n",
              "      <td>13</td>\n",
              "      <td>1</td>\n",
              "      <td>0</td>\n",
              "      <td>0</td>\n",
              "      <td>11.506716</td>\n",
              "      <td>17.799999</td>\n",
              "      <td>4.0</td>\n",
              "      <td>11.7</td>\n",
              "      <td>0.282609</td>\n",
              "      <td>0</td>\n",
              "      <td>6</td>\n",
              "    </tr>\n",
              "    <tr>\n",
              "      <th>17</th>\n",
              "      <td>14</td>\n",
              "      <td>0</td>\n",
              "      <td>0</td>\n",
              "      <td>0</td>\n",
              "      <td>11.365017</td>\n",
              "      <td>17.799999</td>\n",
              "      <td>4.0</td>\n",
              "      <td>11.7</td>\n",
              "      <td>0.282609</td>\n",
              "      <td>0</td>\n",
              "      <td>6</td>\n",
              "    </tr>\n",
              "    <tr>\n",
              "      <th>18</th>\n",
              "      <td>14</td>\n",
              "      <td>1</td>\n",
              "      <td>0</td>\n",
              "      <td>0</td>\n",
              "      <td>11.365017</td>\n",
              "      <td>17.799999</td>\n",
              "      <td>4.0</td>\n",
              "      <td>11.7</td>\n",
              "      <td>0.282609</td>\n",
              "      <td>0</td>\n",
              "      <td>6</td>\n",
              "    </tr>\n",
              "    <tr>\n",
              "      <th>19</th>\n",
              "      <td>15</td>\n",
              "      <td>0</td>\n",
              "      <td>0</td>\n",
              "      <td>6</td>\n",
              "      <td>11.338072</td>\n",
              "      <td>17.799999</td>\n",
              "      <td>4.0</td>\n",
              "      <td>11.7</td>\n",
              "      <td>0.282609</td>\n",
              "      <td>0</td>\n",
              "      <td>6</td>\n",
              "    </tr>\n",
              "  </tbody>\n",
              "</table>\n",
              "</div>"
            ],
            "text/plain": [
              "    building_id  meter  site_id  primary_use  square_feet  air_temperature  \\\n",
              "0             0      0        0            0     8.913685        17.799999   \n",
              "1             1      0        0            0     7.908755        17.799999   \n",
              "2             2      0        0            0     8.589886        17.799999   \n",
              "3             3      0        0            0    10.072639        17.799999   \n",
              "4             4      0        0            0    11.666573        17.799999   \n",
              "5             5      0        0            0     8.987322        17.799999   \n",
              "6             6      0        0            4    10.237349        17.799999   \n",
              "7             7      0        0            0    11.704165        17.799999   \n",
              "8             7      1        0            0    11.704165        17.799999   \n",
              "9             8      0        0            0    11.015510        17.799999   \n",
              "10            9      0        0            6    10.203629        17.799999   \n",
              "11            9      1        0            6    10.203629        17.799999   \n",
              "12           10      0        0            1    12.823348        17.799999   \n",
              "13           11      0        0            0    10.801085        17.799999   \n",
              "14           12      0        0            4    10.521399        17.799999   \n",
              "15           13      0        0            0    11.506716        17.799999   \n",
              "16           13      1        0            0    11.506716        17.799999   \n",
              "17           14      0        0            0    11.365017        17.799999   \n",
              "18           14      1        0            0    11.365017        17.799999   \n",
              "19           15      0        0            6    11.338072        17.799999   \n",
              "\n",
              "    cloud_coverage  dew_temperature  precip_depth_1_hr  hour  weekend  \n",
              "0              4.0             11.7           0.282609     0        6  \n",
              "1              4.0             11.7           0.282609     0        6  \n",
              "2              4.0             11.7           0.282609     0        6  \n",
              "3              4.0             11.7           0.282609     0        6  \n",
              "4              4.0             11.7           0.282609     0        6  \n",
              "5              4.0             11.7           0.282609     0        6  \n",
              "6              4.0             11.7           0.282609     0        6  \n",
              "7              4.0             11.7           0.282609     0        6  \n",
              "8              4.0             11.7           0.282609     0        6  \n",
              "9              4.0             11.7           0.282609     0        6  \n",
              "10             4.0             11.7           0.282609     0        6  \n",
              "11             4.0             11.7           0.282609     0        6  \n",
              "12             4.0             11.7           0.282609     0        6  \n",
              "13             4.0             11.7           0.282609     0        6  \n",
              "14             4.0             11.7           0.282609     0        6  \n",
              "15             4.0             11.7           0.282609     0        6  \n",
              "16             4.0             11.7           0.282609     0        6  \n",
              "17             4.0             11.7           0.282609     0        6  \n",
              "18             4.0             11.7           0.282609     0        6  \n",
              "19             4.0             11.7           0.282609     0        6  "
            ]
          },
          "metadata": {
            "tags": []
          },
          "execution_count": 51
        }
      ]
    },
    {
      "cell_type": "code",
      "metadata": {
        "id": "qTXAJs7LGHsR",
        "colab_type": "code",
        "colab": {
          "base_uri": "https://localhost:8080/",
          "height": 34
        },
        "outputId": "f0db3ec9-b238-4c85-a549-732eafb60022"
      },
      "source": [
        "\n",
        "feat =['building_id', 'meter', 'site_id', 'primary_use', 'square_feet',\n",
        "       'air_temperature', 'cloud_coverage', 'dew_temperature',\n",
        "       'precip_depth_1_hr', 'hour', 'weekend']\n",
        "print(feat)"
      ],
      "execution_count": 60,
      "outputs": [
        {
          "output_type": "stream",
          "text": [
            "['building_id', 'meter', 'site_id', 'primary_use', 'square_feet', 'air_temperature', 'cloud_coverage', 'dew_temperature', 'precip_depth_1_hr', 'hour', 'weekend']\n"
          ],
          "name": "stdout"
        }
      ]
    },
    {
      "cell_type": "code",
      "metadata": {
        "id": "EB3Cyn5wvKim",
        "colab_type": "code",
        "colab": {
          "base_uri": "https://localhost:8080/",
          "height": 34
        },
        "outputId": "d213ba41-cc1d-4ef0-8b27-ebbf4062a64d"
      },
      "source": [
        "test_data = test_df[feat]\n",
        "y_pred = my_model.predict(test_data.values, batch_size=1024, verbose=1)"
      ],
      "execution_count": 61,
      "outputs": [
        {
          "output_type": "stream",
          "text": [
            "41697600/41697600 [==============================] - 243s 6us/sample\n"
          ],
          "name": "stdout"
        }
      ]
    },
    {
      "cell_type": "code",
      "metadata": {
        "id": "9bBm3uPou-Yy",
        "colab_type": "code",
        "colab": {}
      },
      "source": [
        "sample_submission = pd.read_csv(root + 'sample_submission.csv')\n",
        "sample_submission['meter_reading'] = np.expm1(y_pred)"
      ],
      "execution_count": 0,
      "outputs": []
    },
    {
      "cell_type": "code",
      "metadata": {
        "id": "xdb8v4tc2jfI",
        "colab_type": "code",
        "colab": {}
      },
      "source": [
        "export_csv = sample_submission.to_csv('./my-submission.csv', index=False)"
      ],
      "execution_count": 0,
      "outputs": []
    },
    {
      "cell_type": "code",
      "metadata": {
        "id": "9Ek-ebZG4FHq",
        "colab_type": "code",
        "colab": {
          "base_uri": "https://localhost:8080/",
          "height": 85
        },
        "outputId": "2581f000-7ed6-4f9a-8b39-9a8f2aefd6ba"
      },
      "source": [
        "!kaggle competitions submit ashrae-energy-prediction -f my-submission.csv -m 'First submission'"
      ],
      "execution_count": 69,
      "outputs": [
        {
          "output_type": "stream",
          "text": [
            "Warning: Your Kaggle API key is readable by other users on this system! To fix this, you can run 'chmod 600 /root/.kaggle/kaggle.json'\n",
            "Warning: Looks like you're using an outdated API Version, please consider updating (server 1.5.6 / client 1.5.4)\n",
            "100% 728M/728M [00:29<00:00, 26.0MB/s]\n",
            "Successfully submitted to ASHRAE - Great Energy Predictor III"
          ],
          "name": "stdout"
        }
      ]
    },
    {
      "cell_type": "code",
      "metadata": {
        "id": "l1r0W9I04l-G",
        "colab_type": "code",
        "colab": {
          "base_uri": "https://localhost:8080/",
          "height": 34
        },
        "outputId": "5ebf6c29-7a51-461b-e3b6-a4d33d440e60"
      },
      "source": [
        "!ls -a"
      ],
      "execution_count": 66,
      "outputs": [
        {
          "output_type": "stream",
          "text": [
            ".  ..  .config\tdrive  .kaggle\tmy-submission.csv  sample_data\n"
          ],
          "name": "stdout"
        }
      ]
    },
    {
      "cell_type": "code",
      "metadata": {
        "id": "xqBsNevX7VHW",
        "colab_type": "code",
        "colab": {}
      },
      "source": [
        "! cp .kaggle/kaggle.json /root/.kaggle/"
      ],
      "execution_count": 0,
      "outputs": []
    },
    {
      "cell_type": "code",
      "metadata": {
        "id": "MNfiCldE7hCy",
        "colab_type": "code",
        "colab": {}
      },
      "source": [
        ""
      ],
      "execution_count": 0,
      "outputs": []
    }
  ]
}